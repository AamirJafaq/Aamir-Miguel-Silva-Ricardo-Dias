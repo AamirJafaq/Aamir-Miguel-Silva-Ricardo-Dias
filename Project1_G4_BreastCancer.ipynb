{
 "cells": [
  {
   "cell_type": "markdown",
   "id": "3c5ade3e",
   "metadata": {},
   "source": [
    "# Técnicas Matemáticas para Big Data - Project 1\n",
    "## Teacher: Eugénio Rocha\n",
    "## Students:\n",
    "- Aamir Khan 117358\n",
    "- Miguel Silva 102464\n",
    "- Ricardo Dias 118372"
   ]
  },
  {
   "cell_type": "markdown",
   "id": "9c4459ae",
   "metadata": {},
   "source": [
    "# 1. Introduction"
   ]
  },
  {
   "cell_type": "markdown",
   "id": "0006303b",
   "metadata": {},
   "source": [
    "### 1.1 Bayesian Networks introduction"
   ]
  },
  {
   "cell_type": "markdown",
   "id": "72e9e7b9",
   "metadata": {},
   "source": [
    "Bayesian Networks model conditional dependence between variables, where these variables are connected forming a network [1]. As Brownlee [2] puts it, \"Bayesian networks are a probabilistic graphical model that explicitly capture the known conditional dependence with directed edges in a graph model\". Bayesian Networks are acyclic, where the nodes correspond to the variables and the arrows represent the dependencies between them. The dependency between features is directed (indicating causality), which contributes to building models that infer the probability of certain events based on previously know variables."
   ]
  },
  {
   "cell_type": "markdown",
   "id": "d1cbb0ee",
   "metadata": {},
   "source": [
    "As mentioned before, Bayesian Networks work based on conditional probabilities. For instance, if event A is conditionally dependent on event B, the probability of event A happending is P(A|B) = P(A, B) / P(B). Also, if event C is conditionally dependent on A and B, the likelihood of event C taking place if P(C|A, B) = P(A, B, C) / P(A, B), and so on. This is, therefore, the work basis of Bayesian Networks."
   ]
  },
  {
   "cell_type": "markdown",
   "id": "0d0c1329",
   "metadata": {},
   "source": [
    "### 1.2 Breast cancer recurrence overview"
   ]
  },
  {
   "cell_type": "markdown",
   "id": "6e379fa8",
   "metadata": {},
   "source": [
    "Breast cancer recurrence is defined by the reappearance of cancer after treatment (locally of distant from the original place), and it may happen due to several factors, such as stage, treatment, age, and cancer type. For instance, women that have breast cancer before the age of 35 have a higher change of suffering recurrence. However, cancer recurrance risk can be reduced through irradiation therapy [3]. "
   ]
  },
  {
   "cell_type": "markdown",
   "id": "e398079d",
   "metadata": {},
   "source": [
    "The breast cancer recurrence factors above mentioned are present in the Bayesian Network developed afterward."
   ]
  },
  {
   "cell_type": "markdown",
   "id": "7c2b9100",
   "metadata": {},
   "source": [
    "### 1.3 Brief review on Bayesian Networks usage "
   ]
  },
  {
   "cell_type": "markdown",
   "id": "68a91171",
   "metadata": {},
   "source": [
    "Ibeni et al. (2019) [4] have developed a Bayesian Network model for classifications of breast cancer recurrence. Simultaneously, the group developed models recurring to the following algorithms: Naїve Bayes, Tree Augmented Naїve Bayes, K-Nearest Neighbor, Support Vector Machine, and Decision Tree. They have implemented the algorithms with three different datasets concerning breast cancer, and one of them was the Breast Cancer dataset [5] available on UCI Machine Learning, which is the same dataset we are using in this project (the two other datasets aimed to classify cancer as benign/malign, and classify breast tissue according to a six-fold classification: carcinoma, fibro-adenoma, mastophaty, glandular, connective, and adipose). For the models' evaluation, they have reccurred to a 10-fold cross validation and, according to the group, the Bayesian Network algorithm was the one the higher accuracy (97.281%) on the Breast Cancer dataset, also scoring high values with precision, recall, and F1-score (all above 95%)."
   ]
  },
  {
   "cell_type": "markdown",
   "id": "8ba053d4",
   "metadata": {},
   "source": [
    "Arora et al. (2019) [6] have dicussed the usage of Bayesian Network for risk prediction as a tool in precision medicine, especially comparing with the traditional regression models. The group has concluded that regression models do not model causality, handle non-linear variables with difficulty, and multiple models are needed when facing various outcomes. As for the strengths of Bayesian Networks, it was stated that these networks allow causality between variables (which is beneficial for individual risk prediction), learn from both data and knowledge acquired before-hand (expert knowledge, such as known probilities), allow \"what-if\" scenarios, can incoporate decision nodes (extension to decision models), and can model multiple outcomes. However, Bayesian Networks are computationally demanding and are unnable to handle cyclical relationships between variables (feedback loops). "
   ]
  },
  {
   "cell_type": "markdown",
   "id": "e58aea54",
   "metadata": {},
   "source": [
    "# 2. First steps"
   ]
  },
  {
   "cell_type": "code",
   "execution_count": 43,
   "id": "91df1f5f",
   "metadata": {},
   "outputs": [],
   "source": [
    "# !pip install pgmpy\n",
    "# !pip install pomegranate\n",
    "\n",
    "import pandas as pd\n",
    "import numpy as np\n",
    "import matplotlib.pyplot as plt\n",
    "import warnings\n",
    "from itertools import product\n",
    "from fractions import Fraction\n",
    "\n",
    "from pgmpy.models import BayesianNetwork"
   ]
  },
  {
   "cell_type": "code",
   "execution_count": 44,
   "id": "e863326f",
   "metadata": {},
   "outputs": [],
   "source": [
    "# avoid warnings of copy\n",
    "from pandas.core.common import SettingWithCopyWarning\n",
    "warnings.simplefilter(action=\"ignore\", category=SettingWithCopyWarning)\n",
    "\n",
    "# avoid warnings of performance\n",
    "warnings.simplefilter(action='ignore', category=pd.errors.PerformanceWarning)"
   ]
  },
  {
   "cell_type": "markdown",
   "id": "990e36d8",
   "metadata": {},
   "source": [
    "### 2.1 Importing the data"
   ]
  },
  {
   "cell_type": "code",
   "execution_count": 36,
   "id": "4491a765",
   "metadata": {
    "scrolled": true
   },
   "outputs": [],
   "source": [
    "#pip install ucimlrepo"
   ]
  },
  {
   "cell_type": "code",
   "execution_count": 45,
   "id": "035baa09",
   "metadata": {},
   "outputs": [
    {
     "name": "stdout",
     "output_type": "stream",
     "text": [
      "{'uci_id': 14, 'name': 'Breast Cancer', 'repository_url': 'https://archive.ics.uci.edu/dataset/14/breast+cancer', 'data_url': 'https://archive.ics.uci.edu/static/public/14/data.csv', 'abstract': 'Breast Cancer Data (Restricted Access)', 'area': 'Life Science', 'tasks': ['Classification'], 'characteristics': ['Multivariate'], 'num_instances': 286, 'num_features': 9, 'feature_types': ['Categorical'], 'demographics': ['Age'], 'target_col': ['Class'], 'index_col': None, 'has_missing_values': 'yes', 'missing_values_symbol': 'NaN', 'year_of_dataset_creation': 1988, 'last_updated': 'Mon Aug 28 2023', 'dataset_doi': '10.24432/C51P4M', 'creators': ['Matjaz Zwitter', 'Milan Soklic'], 'intro_paper': None, 'additional_info': {'summary': 'This is one of three domains provided by the Oncology Institute that has repeatedly appeared in the machine learning literature. (See also lymphography and primary-tumor.)\\r\\n\\r\\nThis data set includes 201 instances of one class and 85 instances of another class.  The instances are described by 9 attributes, some of which are linear and some are nominal.\\r\\n', 'purpose': None, 'funded_by': None, 'instances_represent': None, 'recommended_data_splits': None, 'sensitive_data': None, 'preprocessing_description': None, 'variable_info': '   1. Class: no-recurrence-events, recurrence-events\\r\\n   2. age: 10-19, 20-29, 30-39, 40-49, 50-59, 60-69, 70-79, 80-89, 90-99.\\r\\n   3. menopause: lt40, ge40, premeno.\\r\\n   4. tumor-size: 0-4, 5-9, 10-14, 15-19, 20-24, 25-29, 30-34, 35-39, 40-44, 45-49, 50-54, 55-59.\\r\\n   5. inv-nodes: 0-2, 3-5, 6-8, 9-11, 12-14, 15-17, 18-20, 21-23, 24-26, 27-29, 30-32, 33-35, 36-39.\\r\\n   6. node-caps: yes, no.\\r\\n   7. deg-malig: 1, 2, 3.\\r\\n   8. breast: left, right.\\r\\n   9. breast-quad: left-up, left-low, right-up,\\tright-low, central.\\r\\n  10. irradiat:\\tyes, no.', 'citation': None}}\n",
      "          name     role         type demographic  \\\n",
      "0        Class   Target       Binary        None   \n",
      "1          age  Feature  Categorical         Age   \n",
      "2    menopause  Feature  Categorical        None   \n",
      "3   tumor-size  Feature  Categorical        None   \n",
      "4    inv-nodes  Feature  Categorical        None   \n",
      "5    node-caps  Feature       Binary        None   \n",
      "6    deg-malig  Feature      Integer        None   \n",
      "7       breast  Feature       Binary        None   \n",
      "8  breast-quad  Feature  Categorical        None   \n",
      "9     irradiat  Feature       Binary        None   \n",
      "\n",
      "                                         description  units missing_values  \n",
      "0            no-recurrence-events, recurrence-events   None             no  \n",
      "1  10-19, 20-29, 30-39, 40-49, 50-59, 60-69, 70-7...  years             no  \n",
      "2                                lt40, ge40, premeno   None             no  \n",
      "3  0-4, 5-9, 10-14, 15-19, 20-24, 25-29, 30-34, 3...   None             no  \n",
      "4   0-2, 3-5, 6-8, 9-11, 12-14, 15-17, 18-20, 21-...   None             no  \n",
      "5                                            yes, no   None            yes  \n",
      "6                                            1, 2, 3   None             no  \n",
      "7                                        left, right   None             no  \n",
      "8   left-up, left-low, right-up,\\tright-low, central   None            yes  \n",
      "9                                            yes, no   None             no  \n"
     ]
    }
   ],
   "source": [
    "from ucimlrepo import fetch_ucirepo \n",
    "  \n",
    "# fetch dataset \n",
    "breast_cancer = fetch_ucirepo(id=14) \n",
    "  \n",
    "# data (as pandas dataframes) \n",
    "X = breast_cancer.data.features \n",
    "y = breast_cancer.data.targets \n",
    "  \n",
    "# metadata \n",
    "print(breast_cancer.metadata) \n",
    "  \n",
    "# variable information \n",
    "print(breast_cancer.variables) "
   ]
  },
  {
   "cell_type": "markdown",
   "id": "7b692e14",
   "metadata": {},
   "source": [
    "### 2.2 Basic acquaintance with the data"
   ]
  },
  {
   "cell_type": "markdown",
   "id": "43fa27a2",
   "metadata": {},
   "source": [
    "- Checking the first samples of the data frame."
   ]
  },
  {
   "cell_type": "code",
   "execution_count": 46,
   "id": "9921ebca",
   "metadata": {},
   "outputs": [
    {
     "data": {
      "text/html": [
       "<div>\n",
       "<style scoped>\n",
       "    .dataframe tbody tr th:only-of-type {\n",
       "        vertical-align: middle;\n",
       "    }\n",
       "\n",
       "    .dataframe tbody tr th {\n",
       "        vertical-align: top;\n",
       "    }\n",
       "\n",
       "    .dataframe thead th {\n",
       "        text-align: right;\n",
       "    }\n",
       "</style>\n",
       "<table border=\"1\" class=\"dataframe\">\n",
       "  <thead>\n",
       "    <tr style=\"text-align: right;\">\n",
       "      <th></th>\n",
       "      <th>age</th>\n",
       "      <th>menopause</th>\n",
       "      <th>tumor-size</th>\n",
       "      <th>inv-nodes</th>\n",
       "      <th>node-caps</th>\n",
       "      <th>deg-malig</th>\n",
       "      <th>breast</th>\n",
       "      <th>breast-quad</th>\n",
       "      <th>irradiat</th>\n",
       "      <th>Class</th>\n",
       "    </tr>\n",
       "  </thead>\n",
       "  <tbody>\n",
       "    <tr>\n",
       "      <th>0</th>\n",
       "      <td>30-39</td>\n",
       "      <td>premeno</td>\n",
       "      <td>30-34</td>\n",
       "      <td>0-2</td>\n",
       "      <td>no</td>\n",
       "      <td>3</td>\n",
       "      <td>left</td>\n",
       "      <td>left_low</td>\n",
       "      <td>no</td>\n",
       "      <td>no-recurrence-events</td>\n",
       "    </tr>\n",
       "    <tr>\n",
       "      <th>1</th>\n",
       "      <td>40-49</td>\n",
       "      <td>premeno</td>\n",
       "      <td>20-24</td>\n",
       "      <td>0-2</td>\n",
       "      <td>no</td>\n",
       "      <td>2</td>\n",
       "      <td>right</td>\n",
       "      <td>right_up</td>\n",
       "      <td>no</td>\n",
       "      <td>no-recurrence-events</td>\n",
       "    </tr>\n",
       "    <tr>\n",
       "      <th>2</th>\n",
       "      <td>40-49</td>\n",
       "      <td>premeno</td>\n",
       "      <td>20-24</td>\n",
       "      <td>0-2</td>\n",
       "      <td>no</td>\n",
       "      <td>2</td>\n",
       "      <td>left</td>\n",
       "      <td>left_low</td>\n",
       "      <td>no</td>\n",
       "      <td>no-recurrence-events</td>\n",
       "    </tr>\n",
       "    <tr>\n",
       "      <th>3</th>\n",
       "      <td>60-69</td>\n",
       "      <td>ge40</td>\n",
       "      <td>15-19</td>\n",
       "      <td>0-2</td>\n",
       "      <td>no</td>\n",
       "      <td>2</td>\n",
       "      <td>right</td>\n",
       "      <td>left_up</td>\n",
       "      <td>no</td>\n",
       "      <td>no-recurrence-events</td>\n",
       "    </tr>\n",
       "    <tr>\n",
       "      <th>4</th>\n",
       "      <td>40-49</td>\n",
       "      <td>premeno</td>\n",
       "      <td>0-4</td>\n",
       "      <td>0-2</td>\n",
       "      <td>no</td>\n",
       "      <td>2</td>\n",
       "      <td>right</td>\n",
       "      <td>right_low</td>\n",
       "      <td>no</td>\n",
       "      <td>no-recurrence-events</td>\n",
       "    </tr>\n",
       "  </tbody>\n",
       "</table>\n",
       "</div>"
      ],
      "text/plain": [
       "     age menopause tumor-size inv-nodes node-caps  deg-malig breast  \\\n",
       "0  30-39   premeno      30-34       0-2        no          3   left   \n",
       "1  40-49   premeno      20-24       0-2        no          2  right   \n",
       "2  40-49   premeno      20-24       0-2        no          2   left   \n",
       "3  60-69      ge40      15-19       0-2        no          2  right   \n",
       "4  40-49   premeno        0-4       0-2        no          2  right   \n",
       "\n",
       "  breast-quad irradiat                 Class  \n",
       "0    left_low       no  no-recurrence-events  \n",
       "1    right_up       no  no-recurrence-events  \n",
       "2    left_low       no  no-recurrence-events  \n",
       "3     left_up       no  no-recurrence-events  \n",
       "4   right_low       no  no-recurrence-events  "
      ]
     },
     "execution_count": 46,
     "metadata": {},
     "output_type": "execute_result"
    }
   ],
   "source": [
    "df = pd.concat([X,y], axis=1)\n",
    "df.head()"
   ]
  },
  {
   "cell_type": "markdown",
   "id": "422e0aed",
   "metadata": {},
   "source": [
    "- Checking the number of missing values from each variable."
   ]
  },
  {
   "cell_type": "code",
   "execution_count": 47,
   "id": "bc6e6196",
   "metadata": {
    "scrolled": true
   },
   "outputs": [
    {
     "data": {
      "text/plain": [
       "age            0\n",
       "menopause      0\n",
       "tumor-size     0\n",
       "inv-nodes      0\n",
       "node-caps      8\n",
       "deg-malig      0\n",
       "breast         0\n",
       "breast-quad    1\n",
       "irradiat       0\n",
       "Class          0\n",
       "dtype: int64"
      ]
     },
     "execution_count": 47,
     "metadata": {},
     "output_type": "execute_result"
    }
   ],
   "source": [
    "df.isnull().sum()"
   ]
  },
  {
   "cell_type": "markdown",
   "id": "6299df47",
   "metadata": {},
   "source": [
    "- Checking the amount of samples per value of each feature:"
   ]
  },
  {
   "cell_type": "code",
   "execution_count": 48,
   "id": "057bf9de",
   "metadata": {
    "scrolled": true
   },
   "outputs": [
    {
     "name": "stdout",
     "output_type": "stream",
     "text": [
      "age\n",
      "50-59    96\n",
      "40-49    90\n",
      "60-69    57\n",
      "30-39    36\n",
      "70-79     6\n",
      "20-29     1\n",
      "Name: age, dtype: int64\n",
      "\n",
      "menopause\n",
      "premeno    150\n",
      "ge40       129\n",
      "lt40         7\n",
      "Name: menopause, dtype: int64\n",
      "\n",
      "tumor-size\n",
      "30-34     60\n",
      "25-29     54\n",
      "20-24     50\n",
      "15-19     30\n",
      "14-Oct    28\n",
      "40-44     22\n",
      "35-39     19\n",
      "0-4        8\n",
      "50-54      8\n",
      "9-May      4\n",
      "45-49      3\n",
      "Name: tumor-size, dtype: int64\n",
      "\n",
      "inv-nodes\n",
      "0-2       213\n",
      "5-Mar      36\n",
      "8-Jun      17\n",
      "11-Sep     10\n",
      "15-17       6\n",
      "14-Dec      3\n",
      "24-26       1\n",
      "Name: inv-nodes, dtype: int64\n",
      "\n",
      "node-caps\n",
      "no     222\n",
      "yes     56\n",
      "Name: node-caps, dtype: int64\n",
      "\n",
      "deg-malig\n",
      "2    130\n",
      "3     85\n",
      "1     71\n",
      "Name: deg-malig, dtype: int64\n",
      "\n",
      "breast\n",
      "left     152\n",
      "right    134\n",
      "Name: breast, dtype: int64\n",
      "\n",
      "breast-quad\n",
      "left_low     110\n",
      "left_up       97\n",
      "right_up      33\n",
      "right_low     24\n",
      "central       21\n",
      "Name: breast-quad, dtype: int64\n",
      "\n",
      "irradiat\n",
      "no     218\n",
      "yes     68\n",
      "Name: irradiat, dtype: int64\n",
      "\n",
      "Class\n",
      "no-recurrence-events    201\n",
      "recurrence-events        85\n",
      "Name: Class, dtype: int64\n",
      "\n"
     ]
    }
   ],
   "source": [
    "for feature in df.columns:\n",
    "    print(feature)\n",
    "    print(df[feature].value_counts())\n",
    "    print(\"\")"
   ]
  },
  {
   "cell_type": "markdown",
   "id": "aa5bf0e4",
   "metadata": {},
   "source": [
    "### 2.3. Several conclusions"
   ]
  },
  {
   "cell_type": "markdown",
   "id": "62f26159",
   "metadata": {},
   "source": [
    "We have decided to reduce the dataset to the following features:\n",
    " - age:<br>\n",
    "    - Description: Represents the age of the patient.<br>\n",
    "    - Type: Categorical<br>\n",
    "    - Possible values: 10-19, 20-29, 30-39, 40-49, 50-59, 60-69, 70-79, 80-89, 90-99\n",
    " - menopause:<br>\n",
    "    - Description: Indicates the menopausal status of the patient.<br>\n",
    "    - Type: Categorical<br>\n",
    "    - Possible Values: lt40, ge40, premeno.<br>\n",
    " - tumor-size:<br>\n",
    "    - Description: Refers to the size of the tumor.<br>\n",
    "    - Type: Categorical<br>\n",
    "    - Possible values: 0-4, 5-9, 10-14, 15-19, 20-24, 25-29, 30-34, 35-39, 40-44, 45-49, 50-54, 55-59\n",
    " - deg-malig:<br>\n",
    "    - Description: Represents the degree of malignancy of the tumor.<br>\n",
    "    - Type: Categorical<br>\n",
    "    - Possible Values: 1,2,3.<br>\n",
    " - brest-quad:<br>\n",
    "    - Description: Indicates the quadrant of the breast where the tumor is located.<br>\n",
    "    - Type: Categorical<br>\n",
    "    - Possible Values: central, left_low, left_up, right_low, right_up.<br>\n",
    " - irradiant:<br>\n",
    "    - Description:Indicates whether the patient received irradiation treatment.<br>\n",
    "    - Type: Binary<br>\n",
    "    - Possible values: no, yes\n",
    " - Class:<br>\n",
    "    - Description:Classify patients into the ones with no recurrence of breast cancer and the ones with recurrence events. <br>\n",
    "    - Type: Binary<br>\n",
    "    - Possible values: no-recurrence-events, recurrence-events\n",
    "\n",
    "By checking data and seeing that we have a total of 8 missing values on the *node-caps* variable (this is irrelevant because this variable is going to be erased before dropping the missing values from the data frame) and 1 missing value on the *breast-quad* variable, it's safe to say that we can drop all those observations.\n",
    "\n",
    "Finally, we have decided to drop the samples that have \"menopause\" = 'lt40' because we only have 7 samples (this may jeopardize network construction - we have analyzed the Bayesian network with 'lt40' and we have found some individuals that don't have both 'central' breast quadrant and 'lt40' menopause to build a layer in the network). "
   ]
  },
  {
   "cell_type": "code",
   "execution_count": 49,
   "id": "baaf2834",
   "metadata": {},
   "outputs": [],
   "source": [
    "# selecting relevant features\n",
    "df = df[['age','menopause','tumor-size','deg-malig','breast-quad','irradiat','Class']]\n",
    "\n",
    "# dropping NaN values\n",
    "df = df.dropna()\n",
    "\n",
    "# reseting index\n",
    "df = df.reset_index(drop=True)\n",
    "\n",
    "# renaming columns for readability\n",
    "df.columns = ['age','menopause','tumor_size','deg_malig','breast_quad','irradiat','Class']\n",
    "\n",
    "# dropping menpause = lt40\n",
    "df = df.drop(index = df[df['menopause']=='lt40'].index, axis=0)\n",
    "\n",
    "# reseting index\n",
    "df = df.reset_index(drop=True)"
   ]
  },
  {
   "cell_type": "code",
   "execution_count": 50,
   "id": "d78c76c3",
   "metadata": {},
   "outputs": [
    {
     "data": {
      "text/html": [
       "<div>\n",
       "<style scoped>\n",
       "    .dataframe tbody tr th:only-of-type {\n",
       "        vertical-align: middle;\n",
       "    }\n",
       "\n",
       "    .dataframe tbody tr th {\n",
       "        vertical-align: top;\n",
       "    }\n",
       "\n",
       "    .dataframe thead th {\n",
       "        text-align: right;\n",
       "    }\n",
       "</style>\n",
       "<table border=\"1\" class=\"dataframe\">\n",
       "  <thead>\n",
       "    <tr style=\"text-align: right;\">\n",
       "      <th></th>\n",
       "      <th>age</th>\n",
       "      <th>menopause</th>\n",
       "      <th>tumor_size</th>\n",
       "      <th>deg_malig</th>\n",
       "      <th>breast_quad</th>\n",
       "      <th>irradiat</th>\n",
       "      <th>Class</th>\n",
       "    </tr>\n",
       "  </thead>\n",
       "  <tbody>\n",
       "    <tr>\n",
       "      <th>0</th>\n",
       "      <td>30-39</td>\n",
       "      <td>premeno</td>\n",
       "      <td>30-34</td>\n",
       "      <td>3</td>\n",
       "      <td>left_low</td>\n",
       "      <td>no</td>\n",
       "      <td>no-recurrence-events</td>\n",
       "    </tr>\n",
       "    <tr>\n",
       "      <th>1</th>\n",
       "      <td>40-49</td>\n",
       "      <td>premeno</td>\n",
       "      <td>20-24</td>\n",
       "      <td>2</td>\n",
       "      <td>right_up</td>\n",
       "      <td>no</td>\n",
       "      <td>no-recurrence-events</td>\n",
       "    </tr>\n",
       "    <tr>\n",
       "      <th>2</th>\n",
       "      <td>40-49</td>\n",
       "      <td>premeno</td>\n",
       "      <td>20-24</td>\n",
       "      <td>2</td>\n",
       "      <td>left_low</td>\n",
       "      <td>no</td>\n",
       "      <td>no-recurrence-events</td>\n",
       "    </tr>\n",
       "    <tr>\n",
       "      <th>3</th>\n",
       "      <td>60-69</td>\n",
       "      <td>ge40</td>\n",
       "      <td>15-19</td>\n",
       "      <td>2</td>\n",
       "      <td>left_up</td>\n",
       "      <td>no</td>\n",
       "      <td>no-recurrence-events</td>\n",
       "    </tr>\n",
       "    <tr>\n",
       "      <th>4</th>\n",
       "      <td>40-49</td>\n",
       "      <td>premeno</td>\n",
       "      <td>0-4</td>\n",
       "      <td>2</td>\n",
       "      <td>right_low</td>\n",
       "      <td>no</td>\n",
       "      <td>no-recurrence-events</td>\n",
       "    </tr>\n",
       "  </tbody>\n",
       "</table>\n",
       "</div>"
      ],
      "text/plain": [
       "     age menopause tumor_size  deg_malig breast_quad irradiat  \\\n",
       "0  30-39   premeno      30-34          3    left_low       no   \n",
       "1  40-49   premeno      20-24          2    right_up       no   \n",
       "2  40-49   premeno      20-24          2    left_low       no   \n",
       "3  60-69      ge40      15-19          2     left_up       no   \n",
       "4  40-49   premeno        0-4          2   right_low       no   \n",
       "\n",
       "                  Class  \n",
       "0  no-recurrence-events  \n",
       "1  no-recurrence-events  \n",
       "2  no-recurrence-events  \n",
       "3  no-recurrence-events  \n",
       "4  no-recurrence-events  "
      ]
     },
     "execution_count": 50,
     "metadata": {},
     "output_type": "execute_result"
    }
   ],
   "source": [
    "df.head()"
   ]
  },
  {
   "cell_type": "markdown",
   "id": "c84a6cc5",
   "metadata": {},
   "source": [
    "# 3. Reshaping feature values"
   ]
  },
  {
   "cell_type": "markdown",
   "id": "8fa5f132",
   "metadata": {},
   "source": [
    "### 3.1 Reshaping age groups"
   ]
  },
  {
   "cell_type": "markdown",
   "id": "b64c15ac",
   "metadata": {},
   "source": [
    "- Checking the number of samples per age group"
   ]
  },
  {
   "cell_type": "code",
   "execution_count": 51,
   "id": "0c57d893",
   "metadata": {
    "scrolled": true
   },
   "outputs": [
    {
     "data": {
      "text/plain": [
       "50-59    91\n",
       "40-49    90\n",
       "60-69    55\n",
       "30-39    35\n",
       "70-79     6\n",
       "20-29     1\n",
       "Name: age, dtype: int64"
      ]
     },
     "execution_count": 51,
     "metadata": {},
     "output_type": "execute_result"
    }
   ],
   "source": [
    "df.age.value_counts()"
   ]
  },
  {
   "cell_type": "markdown",
   "id": "235f7338",
   "metadata": {},
   "source": [
    "- We can group ages by: 20-39, 40-49, 50-59, 60-79. Less groups decrease the complexity of the network."
   ]
  },
  {
   "cell_type": "code",
   "execution_count": 52,
   "id": "1aa03cd9",
   "metadata": {
    "scrolled": true
   },
   "outputs": [],
   "source": [
    "# regrouping ages\n",
    "for i in range(len(df.age)):\n",
    "    \n",
    "    if df.age[i] == '20-29' or df.age[i] == '30-39':\n",
    "        df.age[i] = '20-39'\n",
    "\n",
    "    elif df.age[i] == '60-69' or df.age[i] == '70-79': \n",
    "        df.age[i] = '60-79'\n",
    "\n",
    "    # 40-49 and 50-59 mantain "
   ]
  },
  {
   "cell_type": "code",
   "execution_count": 53,
   "id": "0aec4a4e",
   "metadata": {
    "scrolled": true
   },
   "outputs": [
    {
     "name": "stdout",
     "output_type": "stream",
     "text": [
      "50-59    91\n",
      "40-49    90\n",
      "60-79    61\n",
      "20-39    36\n",
      "Name: age, dtype: int64\n",
      "Successful age re-grouping\n"
     ]
    }
   ],
   "source": [
    "print(df.age.value_counts())\n",
    "print(\"Successful age re-grouping\")"
   ]
  },
  {
   "cell_type": "markdown",
   "id": "ac2a1ee8",
   "metadata": {},
   "source": [
    "### 3.2 Reshaping tumor-size groups"
   ]
  },
  {
   "cell_type": "code",
   "execution_count": 57,
   "id": "a19ed21f",
   "metadata": {
    "scrolled": false
   },
   "outputs": [
    {
     "data": {
      "text/plain": [
       "30-34     57\n",
       "25-29     54\n",
       "20-24     48\n",
       "15-19     28\n",
       "14-Oct    27\n",
       "40-44     22\n",
       "35-39     19\n",
       "0-4        8\n",
       "50-54      8\n",
       "9-May      4\n",
       "45-49      3\n",
       "Name: tumor_size, dtype: int64"
      ]
     },
     "execution_count": 57,
     "metadata": {},
     "output_type": "execute_result"
    }
   ],
   "source": [
    "df.tumor_size.value_counts()"
   ]
  },
  {
   "cell_type": "markdown",
   "id": "f15d0a72",
   "metadata": {},
   "source": [
    "- As we can see, there are to labels of tumor_size that are wrongly written, in date format: \"14-Oct\" and \"9-May\". We need to replace them by \"10-14\" and \"5-9\", respectively."
   ]
  },
  {
   "cell_type": "code",
   "execution_count": 58,
   "id": "2fa40279",
   "metadata": {},
   "outputs": [],
   "source": [
    "# assessing wrongly written tumor sizes\n",
    "\n",
    "for i in range(len(df.tumor_size)):\n",
    "    \n",
    "    if df.tumor_size[i] == '9-May':\n",
    "        df.tumor_size[i] = '5-9'\n",
    "        \n",
    "    elif df.tumor_size[i] == '14-Oct':\n",
    "        df.tumor_size[i] = '10-14'"
   ]
  },
  {
   "cell_type": "code",
   "execution_count": 59,
   "id": "3d094ecc",
   "metadata": {
    "scrolled": true
   },
   "outputs": [
    {
     "data": {
      "text/plain": [
       "30-34    57\n",
       "25-29    54\n",
       "20-24    48\n",
       "15-19    28\n",
       "10-14    27\n",
       "40-44    22\n",
       "35-39    19\n",
       "0-4       8\n",
       "50-54     8\n",
       "5-9       4\n",
       "45-49     3\n",
       "Name: tumor_size, dtype: int64"
      ]
     },
     "execution_count": 59,
     "metadata": {},
     "output_type": "execute_result"
    }
   ],
   "source": [
    "df.tumor_size.value_counts()"
   ]
  },
  {
   "cell_type": "markdown",
   "id": "414161f4",
   "metadata": {},
   "source": [
    "- Now, we can group sizes of tumors by: 0-14, 15-24, 25-39, 40-54. Less groups decrease the complexity of the network."
   ]
  },
  {
   "cell_type": "code",
   "execution_count": 60,
   "id": "84ce7145",
   "metadata": {},
   "outputs": [],
   "source": [
    "for i in range(len(df.tumor_size)):\n",
    "    \n",
    "    if df.tumor_size[i] == '0-4' or df.tumor_size[i] == '5-9' or df.tumor_size[i] == '10-14':\n",
    "        df.tumor_size[i] = '0-14'\n",
    "    \n",
    "    elif df.tumor_size[i] == '15-19' or df.tumor_size[i] == '20-24':\n",
    "        df.tumor_size[i] = '15-24'\n",
    "        \n",
    "    elif df.tumor_size[i] == '25-29' or df.tumor_size[i] == '30-34' or df.tumor_size[i] == '35-39':\n",
    "        df.tumor_size[i] = '25-39'\n",
    "    \n",
    "    elif df.tumor_size[i] == '40-44' or df.tumor_size[i] == '45-49' or df.tumor_size[i] == '50-54':\n",
    "        df.tumor_size[i] = '40-54'"
   ]
  },
  {
   "cell_type": "code",
   "execution_count": 61,
   "id": "b78466e5",
   "metadata": {
    "scrolled": false
   },
   "outputs": [
    {
     "name": "stdout",
     "output_type": "stream",
     "text": [
      "25-39    130\n",
      "15-24     76\n",
      "0-14      39\n",
      "40-54     33\n",
      "Name: tumor_size, dtype: int64\n",
      "Successful tumor size re-grouping\n"
     ]
    }
   ],
   "source": [
    "print(df.tumor_size.value_counts())\n",
    "print(\"Successful tumor size re-grouping\")"
   ]
  },
  {
   "cell_type": "markdown",
   "id": "a9170750",
   "metadata": {},
   "source": [
    "### 3.3 Saving the dataset is ready for using"
   ]
  },
  {
   "cell_type": "code",
   "execution_count": 62,
   "id": "f099d3b0",
   "metadata": {},
   "outputs": [],
   "source": [
    "df.to_csv('breast_cancer.csv', index=False)"
   ]
  },
  {
   "cell_type": "markdown",
   "id": "f1f8be70",
   "metadata": {},
   "source": [
    "# 4. Building the Bayesian Network"
   ]
  },
  {
   "cell_type": "markdown",
   "id": "6f960737",
   "metadata": {},
   "source": [
    "### 4.1 Importing data"
   ]
  },
  {
   "cell_type": "code",
   "execution_count": 6,
   "id": "9c23bc51",
   "metadata": {},
   "outputs": [
    {
     "data": {
      "text/html": [
       "<div>\n",
       "<style scoped>\n",
       "    .dataframe tbody tr th:only-of-type {\n",
       "        vertical-align: middle;\n",
       "    }\n",
       "\n",
       "    .dataframe tbody tr th {\n",
       "        vertical-align: top;\n",
       "    }\n",
       "\n",
       "    .dataframe thead th {\n",
       "        text-align: right;\n",
       "    }\n",
       "</style>\n",
       "<table border=\"1\" class=\"dataframe\">\n",
       "  <thead>\n",
       "    <tr style=\"text-align: right;\">\n",
       "      <th></th>\n",
       "      <th>age</th>\n",
       "      <th>menopause</th>\n",
       "      <th>tumor_size</th>\n",
       "      <th>deg_malig</th>\n",
       "      <th>breast_quad</th>\n",
       "      <th>irradiat</th>\n",
       "      <th>Class</th>\n",
       "    </tr>\n",
       "  </thead>\n",
       "  <tbody>\n",
       "    <tr>\n",
       "      <th>0</th>\n",
       "      <td>20-39</td>\n",
       "      <td>premeno</td>\n",
       "      <td>25-39</td>\n",
       "      <td>3</td>\n",
       "      <td>left_low</td>\n",
       "      <td>no</td>\n",
       "      <td>no-recurrence-events</td>\n",
       "    </tr>\n",
       "    <tr>\n",
       "      <th>1</th>\n",
       "      <td>40-49</td>\n",
       "      <td>premeno</td>\n",
       "      <td>15-24</td>\n",
       "      <td>2</td>\n",
       "      <td>right_up</td>\n",
       "      <td>no</td>\n",
       "      <td>no-recurrence-events</td>\n",
       "    </tr>\n",
       "    <tr>\n",
       "      <th>2</th>\n",
       "      <td>40-49</td>\n",
       "      <td>premeno</td>\n",
       "      <td>15-24</td>\n",
       "      <td>2</td>\n",
       "      <td>left_low</td>\n",
       "      <td>no</td>\n",
       "      <td>no-recurrence-events</td>\n",
       "    </tr>\n",
       "    <tr>\n",
       "      <th>3</th>\n",
       "      <td>60-79</td>\n",
       "      <td>ge40</td>\n",
       "      <td>15-24</td>\n",
       "      <td>2</td>\n",
       "      <td>left_up</td>\n",
       "      <td>no</td>\n",
       "      <td>no-recurrence-events</td>\n",
       "    </tr>\n",
       "    <tr>\n",
       "      <th>4</th>\n",
       "      <td>40-49</td>\n",
       "      <td>premeno</td>\n",
       "      <td>0-14</td>\n",
       "      <td>2</td>\n",
       "      <td>right_low</td>\n",
       "      <td>no</td>\n",
       "      <td>no-recurrence-events</td>\n",
       "    </tr>\n",
       "  </tbody>\n",
       "</table>\n",
       "</div>"
      ],
      "text/plain": [
       "     age menopause tumor_size  deg_malig breast_quad irradiat  \\\n",
       "0  20-39   premeno      25-39          3    left_low       no   \n",
       "1  40-49   premeno      15-24          2    right_up       no   \n",
       "2  40-49   premeno      15-24          2    left_low       no   \n",
       "3  60-79      ge40      15-24          2     left_up       no   \n",
       "4  40-49   premeno       0-14          2   right_low       no   \n",
       "\n",
       "                  Class  \n",
       "0  no-recurrence-events  \n",
       "1  no-recurrence-events  \n",
       "2  no-recurrence-events  \n",
       "3  no-recurrence-events  \n",
       "4  no-recurrence-events  "
      ]
     },
     "execution_count": 6,
     "metadata": {},
     "output_type": "execute_result"
    }
   ],
   "source": [
    "data = pd.read_csv('breast_cancer.csv')\n",
    "data.head()"
   ]
  },
  {
   "cell_type": "markdown",
   "id": "a444d40e",
   "metadata": {},
   "source": [
    "### 4.2 Defining the network"
   ]
  },
  {
   "cell_type": "markdown",
   "id": "20c51ac0",
   "metadata": {},
   "source": [
    "This cell defines the network to be implemented, were the pairs of variables represent the links of dependency from the network:\n",
    "- ('age', 'menopause') represents the dependency of menopause on age;\n",
    "- ('menopause', 'tumor_size') represents the dependency of tumor size on menopause;\n",
    "- and so on."
   ]
  },
  {
   "cell_type": "code",
   "execution_count": 40,
   "id": "5dd3d292",
   "metadata": {},
   "outputs": [
    {
     "name": "stdout",
     "output_type": "stream",
     "text": [
      "BayesianNetwork with 7 nodes and 8 edges\n"
     ]
    }
   ],
   "source": [
    "model = BayesianNetwork([('age', 'menopause'), \n",
    "                         ('menopause', 'tumor_size'), \n",
    "                         ('breast_quad', 'tumor_size'), \n",
    "                         ('menopause', 'deg_malig'), \n",
    "                         ('tumor_size', 'deg_malig'), \n",
    "                         ('tumor_size','irradiat'), \n",
    "                         ('irradiat', 'Class'), \n",
    "                         ('deg_malig', 'Class')])\n",
    "\n",
    "\n",
    "# checking the network structure summary\n",
    "print(model)"
   ]
  },
  {
   "cell_type": "markdown",
   "id": "35f4ac3c",
   "metadata": {},
   "source": [
    "### 4.3 Plotting the network"
   ]
  },
  {
   "cell_type": "markdown",
   "id": "5fa159a8",
   "metadata": {},
   "source": [
    "Given the Bayesian Network, this cell plots the shceme of the proposed network."
   ]
  },
  {
   "cell_type": "code",
   "execution_count": 8,
   "id": "33ce20b0",
   "metadata": {
    "scrolled": false
   },
   "outputs": [
    {
     "data": {
      "image/png": "[encoded data removed]",
      "text/plain": [
       "<Figure size 720x720 with 1 Axes>"
      ]
     },
     "metadata": {},
     "output_type": "display_data"
    }
   ],
   "source": [
    "import networkx as nx\n",
    "\n",
    "plt.figure(figsize=(10, 10))\n",
    "\n",
    "G = nx.DiGraph()\n",
    "G.add_edges_from(model.edges())\n",
    "\n",
    "# Draw the graph\n",
    "pos = nx.spring_layout(G)  # positions for all nodes\n",
    "nx.draw_networkx_nodes(G, pos) #draws the nodes of the graph.\n",
    "nx.draw_networkx_edges(G, pos, arrows=True) #draws the edges of the graph.\n",
    "label_pos = {n: (x, y + 0.1) for n, (x, y) in pos.items()}\n",
    "\n",
    "nx.draw_networkx_labels(G, label_pos, labels={n: x for n, x in zip(G, ['age','menopause', 'tumor size', 'degree malignancy', 'irradiation', 'breast quadrant', 'class'])})\n",
    "\n",
    "# Show the plot\n",
    "\n",
    "plt.show()\n",
    "\n"
   ]
  },
  {
   "cell_type": "markdown",
   "id": "1cdd2f24",
   "metadata": {},
   "source": [
    "### 4.4 Tackling probabilities"
   ]
  },
  {
   "cell_type": "markdown",
   "id": "f8b2965e",
   "metadata": {},
   "source": [
    "##### 4.4.1 Defining the matrix with relationships between variables"
   ]
  },
  {
   "cell_type": "markdown",
   "id": "3f62a16b",
   "metadata": {},
   "source": [
    "This matrix \"relationship\" gives a boolean set of values that indicate whether the variables are connected in the network. So, to begin, the matrix is set to all False."
   ]
  },
  {
   "cell_type": "code",
   "execution_count": 11,
   "id": "0f415984",
   "metadata": {
    "scrolled": true
   },
   "outputs": [
    {
     "data": {
      "text/html": [
       "<div>\n",
       "<style scoped>\n",
       "    .dataframe tbody tr th:only-of-type {\n",
       "        vertical-align: middle;\n",
       "    }\n",
       "\n",
       "    .dataframe tbody tr th {\n",
       "        vertical-align: top;\n",
       "    }\n",
       "\n",
       "    .dataframe thead th {\n",
       "        text-align: right;\n",
       "    }\n",
       "</style>\n",
       "<table border=\"1\" class=\"dataframe\">\n",
       "  <thead>\n",
       "    <tr style=\"text-align: right;\">\n",
       "      <th></th>\n",
       "      <th>age</th>\n",
       "      <th>menopause</th>\n",
       "      <th>tumor_size</th>\n",
       "      <th>deg_malig</th>\n",
       "      <th>breast_quad</th>\n",
       "      <th>irradiat</th>\n",
       "      <th>Class</th>\n",
       "    </tr>\n",
       "  </thead>\n",
       "  <tbody>\n",
       "    <tr>\n",
       "      <th>age</th>\n",
       "      <td>False</td>\n",
       "      <td>False</td>\n",
       "      <td>False</td>\n",
       "      <td>False</td>\n",
       "      <td>False</td>\n",
       "      <td>False</td>\n",
       "      <td>False</td>\n",
       "    </tr>\n",
       "    <tr>\n",
       "      <th>menopause</th>\n",
       "      <td>False</td>\n",
       "      <td>False</td>\n",
       "      <td>False</td>\n",
       "      <td>False</td>\n",
       "      <td>False</td>\n",
       "      <td>False</td>\n",
       "      <td>False</td>\n",
       "    </tr>\n",
       "    <tr>\n",
       "      <th>tumor_size</th>\n",
       "      <td>False</td>\n",
       "      <td>False</td>\n",
       "      <td>False</td>\n",
       "      <td>False</td>\n",
       "      <td>False</td>\n",
       "      <td>False</td>\n",
       "      <td>False</td>\n",
       "    </tr>\n",
       "    <tr>\n",
       "      <th>deg_malig</th>\n",
       "      <td>False</td>\n",
       "      <td>False</td>\n",
       "      <td>False</td>\n",
       "      <td>False</td>\n",
       "      <td>False</td>\n",
       "      <td>False</td>\n",
       "      <td>False</td>\n",
       "    </tr>\n",
       "    <tr>\n",
       "      <th>breast_quad</th>\n",
       "      <td>False</td>\n",
       "      <td>False</td>\n",
       "      <td>False</td>\n",
       "      <td>False</td>\n",
       "      <td>False</td>\n",
       "      <td>False</td>\n",
       "      <td>False</td>\n",
       "    </tr>\n",
       "    <tr>\n",
       "      <th>irradiat</th>\n",
       "      <td>False</td>\n",
       "      <td>False</td>\n",
       "      <td>False</td>\n",
       "      <td>False</td>\n",
       "      <td>False</td>\n",
       "      <td>False</td>\n",
       "      <td>False</td>\n",
       "    </tr>\n",
       "    <tr>\n",
       "      <th>Class</th>\n",
       "      <td>False</td>\n",
       "      <td>False</td>\n",
       "      <td>False</td>\n",
       "      <td>False</td>\n",
       "      <td>False</td>\n",
       "      <td>False</td>\n",
       "      <td>False</td>\n",
       "    </tr>\n",
       "  </tbody>\n",
       "</table>\n",
       "</div>"
      ],
      "text/plain": [
       "               age  menopause  tumor_size  deg_malig  breast_quad  irradiat  \\\n",
       "age          False      False       False      False        False     False   \n",
       "menopause    False      False       False      False        False     False   \n",
       "tumor_size   False      False       False      False        False     False   \n",
       "deg_malig    False      False       False      False        False     False   \n",
       "breast_quad  False      False       False      False        False     False   \n",
       "irradiat     False      False       False      False        False     False   \n",
       "Class        False      False       False      False        False     False   \n",
       "\n",
       "             Class  \n",
       "age          False  \n",
       "menopause    False  \n",
       "tumor_size   False  \n",
       "deg_malig    False  \n",
       "breast_quad  False  \n",
       "irradiat     False  \n",
       "Class        False  "
      ]
     },
     "execution_count": 11,
     "metadata": {},
     "output_type": "execute_result"
    }
   ],
   "source": [
    "relationship = pd.DataFrame(False, index=data.columns, columns=data.columns)\n",
    "relationship"
   ]
  },
  {
   "cell_type": "markdown",
   "id": "85c5a198",
   "metadata": {},
   "source": [
    "##### 4.4.2 Replacing values in the relationships matrix according to the network"
   ]
  },
  {
   "cell_type": "markdown",
   "id": "337c1d85",
   "metadata": {},
   "source": [
    "Then, in the matrix \"relationships\", the values False are replaced by True for the pairs of variables that are connected in the network."
   ]
  },
  {
   "cell_type": "code",
   "execution_count": 12,
   "id": "5e523acb",
   "metadata": {},
   "outputs": [
    {
     "data": {
      "text/html": [
       "<div>\n",
       "<style scoped>\n",
       "    .dataframe tbody tr th:only-of-type {\n",
       "        vertical-align: middle;\n",
       "    }\n",
       "\n",
       "    .dataframe tbody tr th {\n",
       "        vertical-align: top;\n",
       "    }\n",
       "\n",
       "    .dataframe thead th {\n",
       "        text-align: right;\n",
       "    }\n",
       "</style>\n",
       "<table border=\"1\" class=\"dataframe\">\n",
       "  <thead>\n",
       "    <tr style=\"text-align: right;\">\n",
       "      <th></th>\n",
       "      <th>age</th>\n",
       "      <th>menopause</th>\n",
       "      <th>tumor_size</th>\n",
       "      <th>deg_malig</th>\n",
       "      <th>breast_quad</th>\n",
       "      <th>irradiat</th>\n",
       "      <th>Class</th>\n",
       "    </tr>\n",
       "  </thead>\n",
       "  <tbody>\n",
       "    <tr>\n",
       "      <th>age</th>\n",
       "      <td>False</td>\n",
       "      <td>True</td>\n",
       "      <td>False</td>\n",
       "      <td>False</td>\n",
       "      <td>False</td>\n",
       "      <td>False</td>\n",
       "      <td>False</td>\n",
       "    </tr>\n",
       "    <tr>\n",
       "      <th>menopause</th>\n",
       "      <td>False</td>\n",
       "      <td>False</td>\n",
       "      <td>True</td>\n",
       "      <td>True</td>\n",
       "      <td>False</td>\n",
       "      <td>False</td>\n",
       "      <td>False</td>\n",
       "    </tr>\n",
       "    <tr>\n",
       "      <th>tumor_size</th>\n",
       "      <td>False</td>\n",
       "      <td>False</td>\n",
       "      <td>False</td>\n",
       "      <td>True</td>\n",
       "      <td>False</td>\n",
       "      <td>True</td>\n",
       "      <td>False</td>\n",
       "    </tr>\n",
       "    <tr>\n",
       "      <th>deg_malig</th>\n",
       "      <td>False</td>\n",
       "      <td>False</td>\n",
       "      <td>False</td>\n",
       "      <td>False</td>\n",
       "      <td>False</td>\n",
       "      <td>False</td>\n",
       "      <td>True</td>\n",
       "    </tr>\n",
       "    <tr>\n",
       "      <th>breast_quad</th>\n",
       "      <td>False</td>\n",
       "      <td>False</td>\n",
       "      <td>True</td>\n",
       "      <td>False</td>\n",
       "      <td>False</td>\n",
       "      <td>False</td>\n",
       "      <td>False</td>\n",
       "    </tr>\n",
       "    <tr>\n",
       "      <th>irradiat</th>\n",
       "      <td>False</td>\n",
       "      <td>False</td>\n",
       "      <td>False</td>\n",
       "      <td>False</td>\n",
       "      <td>False</td>\n",
       "      <td>False</td>\n",
       "      <td>True</td>\n",
       "    </tr>\n",
       "    <tr>\n",
       "      <th>Class</th>\n",
       "      <td>False</td>\n",
       "      <td>False</td>\n",
       "      <td>False</td>\n",
       "      <td>False</td>\n",
       "      <td>False</td>\n",
       "      <td>False</td>\n",
       "      <td>False</td>\n",
       "    </tr>\n",
       "  </tbody>\n",
       "</table>\n",
       "</div>"
      ],
      "text/plain": [
       "               age  menopause  tumor_size  deg_malig  breast_quad  irradiat  \\\n",
       "age          False       True       False      False        False     False   \n",
       "menopause    False      False        True       True        False     False   \n",
       "tumor_size   False      False       False       True        False      True   \n",
       "deg_malig    False      False       False      False        False     False   \n",
       "breast_quad  False      False        True      False        False     False   \n",
       "irradiat     False      False       False      False        False     False   \n",
       "Class        False      False       False      False        False     False   \n",
       "\n",
       "             Class  \n",
       "age          False  \n",
       "menopause    False  \n",
       "tumor_size   False  \n",
       "deg_malig     True  \n",
       "breast_quad  False  \n",
       "irradiat      True  \n",
       "Class        False  "
      ]
     },
     "execution_count": 12,
     "metadata": {},
     "output_type": "execute_result"
    }
   ],
   "source": [
    "relationship.loc['age','menopause'] = True\n",
    "relationship.loc['menopause','tumor_size'] = True\n",
    "relationship.loc['menopause','deg_malig'] = True\n",
    "relationship.loc['breast_quad','tumor_size'] = True\n",
    "relationship.loc['tumor_size','irradiat'] = True\n",
    "relationship.loc['tumor_size','deg_malig'] = True\n",
    "relationship.loc['deg_malig','Class'] = True\n",
    "relationship.loc['irradiat','Class'] = True\n",
    "\n",
    "relationship"
   ]
  },
  {
   "cell_type": "markdown",
   "id": "af8877e4",
   "metadata": {},
   "source": [
    "##### 4.4.3 Function for calculating the conditional probabilities between events of variables"
   ]
  },
  {
   "cell_type": "code",
   "execution_count": 13,
   "id": "bc32ff9d",
   "metadata": {},
   "outputs": [],
   "source": [
    "def calculate_probabilities(structural_matrix, data, target):\n",
    "    \"\"\"\n",
    "    This function calculates the conditional probabilities of variables \n",
    "    according a structural_matrix that indicate the variables that are \n",
    "    connected in the network, the data set, and target variable whose\n",
    "    probabilities the function determines.\n",
    "    \"\"\"\n",
    "    \n",
    "    # selects the variables on whom the target variable is dependent\n",
    "    depedencies_cols = data.columns[structural_matrix[target]]\n",
    "    # number unique combinations of values in the columns identified in dependencies_cols, as well as the target variable\n",
    "    valcount = data[list(data.columns[structural_matrix[target]]) + [target]].value_counts()\n",
    "    # list of possible values for each dependent variable\n",
    "    alternatives = []\n",
    "    \n",
    "    for e in depedencies_cols:\n",
    "        alternatives.append(list(data[e].unique()))\n",
    "    \n",
    "    #  all possible combinations of values for the dependent variables \n",
    "    pairs = list(product(*alternatives))\n",
    "    #  list for pairs of value combinations and their conditional probabilities\n",
    "    a = []\n",
    "    size_series_sum = 0\n",
    "    \n",
    "    for e in pairs:\n",
    "        try:\n",
    "            a.append([e,valcount[e] / valcount[e].sum()])\n",
    "            size_series_sum = size_series_sum + int(valcount[e].shape[0])\n",
    "        except:\n",
    "            print(e, 'Error')\n",
    "        print(' ')\n",
    "    \n",
    "    return a, size_series_sum "
   ]
  },
  {
   "cell_type": "markdown",
   "id": "69404022",
   "metadata": {},
   "source": [
    "##### 4.4.4 Implementing the function for calculating the conditional probabilities, according to the network matrix"
   ]
  },
  {
   "cell_type": "markdown",
   "id": "7c393cc2",
   "metadata": {},
   "source": [
    "This cell prints all possible probabilities according to the network."
   ]
  },
  {
   "cell_type": "code",
   "execution_count": 14,
   "id": "80ca549d",
   "metadata": {
    "scrolled": true
   },
   "outputs": [
    {
     "name": "stdout",
     "output_type": "stream",
     "text": [
      " \n"
     ]
    },
    {
     "data": {
      "text/html": [
       "<div>\n",
       "<style scoped>\n",
       "    .dataframe tbody tr th:only-of-type {\n",
       "        vertical-align: middle;\n",
       "    }\n",
       "\n",
       "    .dataframe tbody tr th {\n",
       "        vertical-align: top;\n",
       "    }\n",
       "\n",
       "    .dataframe thead th {\n",
       "        text-align: right;\n",
       "    }\n",
       "</style>\n",
       "<table border=\"1\" class=\"dataframe\">\n",
       "  <thead>\n",
       "    <tr style=\"text-align: right;\">\n",
       "      <th></th>\n",
       "      <th>age</th>\n",
       "      <th>prob</th>\n",
       "    </tr>\n",
       "  </thead>\n",
       "  <tbody>\n",
       "    <tr>\n",
       "      <th>0</th>\n",
       "      <td>50-59</td>\n",
       "      <td>91/278</td>\n",
       "    </tr>\n",
       "    <tr>\n",
       "      <th>1</th>\n",
       "      <td>40-49</td>\n",
       "      <td>45/139</td>\n",
       "    </tr>\n",
       "    <tr>\n",
       "      <th>2</th>\n",
       "      <td>60-79</td>\n",
       "      <td>61/278</td>\n",
       "    </tr>\n",
       "    <tr>\n",
       "      <th>3</th>\n",
       "      <td>20-39</td>\n",
       "      <td>18/139</td>\n",
       "    </tr>\n",
       "  </tbody>\n",
       "</table>\n",
       "</div>"
      ],
      "text/plain": [
       "     age    prob\n",
       "0  50-59  91/278\n",
       "1  40-49  45/139\n",
       "2  60-79  61/278\n",
       "3  20-39  18/139"
      ]
     },
     "metadata": {},
     "output_type": "display_data"
    },
    {
     "name": "stdout",
     "output_type": "stream",
     "text": [
      " \n",
      " \n",
      " \n",
      " \n"
     ]
    },
    {
     "data": {
      "text/html": [
       "<div>\n",
       "<style scoped>\n",
       "    .dataframe tbody tr th:only-of-type {\n",
       "        vertical-align: middle;\n",
       "    }\n",
       "\n",
       "    .dataframe tbody tr th {\n",
       "        vertical-align: top;\n",
       "    }\n",
       "\n",
       "    .dataframe thead th {\n",
       "        text-align: right;\n",
       "    }\n",
       "</style>\n",
       "<table border=\"1\" class=\"dataframe\">\n",
       "  <thead>\n",
       "    <tr style=\"text-align: right;\">\n",
       "      <th></th>\n",
       "      <th>age</th>\n",
       "      <th>menopause</th>\n",
       "      <th>prob</th>\n",
       "    </tr>\n",
       "  </thead>\n",
       "  <tbody>\n",
       "    <tr>\n",
       "      <th>0</th>\n",
       "      <td>20-39</td>\n",
       "      <td>premeno</td>\n",
       "      <td>1</td>\n",
       "    </tr>\n",
       "    <tr>\n",
       "      <th>1</th>\n",
       "      <td>40-49</td>\n",
       "      <td>premeno</td>\n",
       "      <td>9/10</td>\n",
       "    </tr>\n",
       "    <tr>\n",
       "      <th>2</th>\n",
       "      <td>40-49</td>\n",
       "      <td>ge40</td>\n",
       "      <td>1/10</td>\n",
       "    </tr>\n",
       "    <tr>\n",
       "      <th>3</th>\n",
       "      <td>60-79</td>\n",
       "      <td>ge40</td>\n",
       "      <td>1</td>\n",
       "    </tr>\n",
       "    <tr>\n",
       "      <th>4</th>\n",
       "      <td>50-59</td>\n",
       "      <td>ge40</td>\n",
       "      <td>58/91</td>\n",
       "    </tr>\n",
       "    <tr>\n",
       "      <th>5</th>\n",
       "      <td>50-59</td>\n",
       "      <td>premeno</td>\n",
       "      <td>33/91</td>\n",
       "    </tr>\n",
       "  </tbody>\n",
       "</table>\n",
       "</div>"
      ],
      "text/plain": [
       "     age menopause   prob\n",
       "0  20-39   premeno      1\n",
       "1  40-49   premeno   9/10\n",
       "2  40-49      ge40   1/10\n",
       "3  60-79      ge40      1\n",
       "4  50-59      ge40  58/91\n",
       "5  50-59   premeno  33/91"
      ]
     },
     "metadata": {},
     "output_type": "display_data"
    },
    {
     "name": "stdout",
     "output_type": "stream",
     "text": [
      " \n",
      " \n",
      " \n",
      " \n",
      " \n",
      " \n",
      " \n",
      " \n",
      " \n",
      " \n"
     ]
    },
    {
     "data": {
      "text/html": [
       "<div>\n",
       "<style scoped>\n",
       "    .dataframe tbody tr th:only-of-type {\n",
       "        vertical-align: middle;\n",
       "    }\n",
       "\n",
       "    .dataframe tbody tr th {\n",
       "        vertical-align: top;\n",
       "    }\n",
       "\n",
       "    .dataframe thead th {\n",
       "        text-align: right;\n",
       "    }\n",
       "</style>\n",
       "<table border=\"1\" class=\"dataframe\">\n",
       "  <thead>\n",
       "    <tr style=\"text-align: right;\">\n",
       "      <th></th>\n",
       "      <th>menopause</th>\n",
       "      <th>breast_quad</th>\n",
       "      <th>tumor_size</th>\n",
       "      <th>prob</th>\n",
       "    </tr>\n",
       "  </thead>\n",
       "  <tbody>\n",
       "    <tr>\n",
       "      <th>0</th>\n",
       "      <td>premeno</td>\n",
       "      <td>left_low</td>\n",
       "      <td>25-39</td>\n",
       "      <td>13/29</td>\n",
       "    </tr>\n",
       "    <tr>\n",
       "      <th>1</th>\n",
       "      <td>premeno</td>\n",
       "      <td>left_low</td>\n",
       "      <td>15-24</td>\n",
       "      <td>19/58</td>\n",
       "    </tr>\n",
       "    <tr>\n",
       "      <th>2</th>\n",
       "      <td>premeno</td>\n",
       "      <td>left_low</td>\n",
       "      <td>0-14</td>\n",
       "      <td>7/58</td>\n",
       "    </tr>\n",
       "    <tr>\n",
       "      <th>3</th>\n",
       "      <td>premeno</td>\n",
       "      <td>left_low</td>\n",
       "      <td>40-54</td>\n",
       "      <td>3/29</td>\n",
       "    </tr>\n",
       "    <tr>\n",
       "      <th>4</th>\n",
       "      <td>premeno</td>\n",
       "      <td>right_up</td>\n",
       "      <td>25-39</td>\n",
       "      <td>3/4</td>\n",
       "    </tr>\n",
       "    <tr>\n",
       "      <th>5</th>\n",
       "      <td>premeno</td>\n",
       "      <td>right_up</td>\n",
       "      <td>15-24</td>\n",
       "      <td>3/20</td>\n",
       "    </tr>\n",
       "    <tr>\n",
       "      <th>6</th>\n",
       "      <td>premeno</td>\n",
       "      <td>right_up</td>\n",
       "      <td>40-54</td>\n",
       "      <td>1/10</td>\n",
       "    </tr>\n",
       "    <tr>\n",
       "      <th>7</th>\n",
       "      <td>premeno</td>\n",
       "      <td>left_up</td>\n",
       "      <td>25-39</td>\n",
       "      <td>27/47</td>\n",
       "    </tr>\n",
       "    <tr>\n",
       "      <th>8</th>\n",
       "      <td>premeno</td>\n",
       "      <td>left_up</td>\n",
       "      <td>15-24</td>\n",
       "      <td>8/47</td>\n",
       "    </tr>\n",
       "    <tr>\n",
       "      <th>9</th>\n",
       "      <td>premeno</td>\n",
       "      <td>left_up</td>\n",
       "      <td>40-54</td>\n",
       "      <td>6/47</td>\n",
       "    </tr>\n",
       "    <tr>\n",
       "      <th>10</th>\n",
       "      <td>premeno</td>\n",
       "      <td>left_up</td>\n",
       "      <td>0-14</td>\n",
       "      <td>6/47</td>\n",
       "    </tr>\n",
       "    <tr>\n",
       "      <th>11</th>\n",
       "      <td>premeno</td>\n",
       "      <td>right_low</td>\n",
       "      <td>25-39</td>\n",
       "      <td>7/16</td>\n",
       "    </tr>\n",
       "    <tr>\n",
       "      <th>12</th>\n",
       "      <td>premeno</td>\n",
       "      <td>right_low</td>\n",
       "      <td>15-24</td>\n",
       "      <td>5/16</td>\n",
       "    </tr>\n",
       "    <tr>\n",
       "      <th>13</th>\n",
       "      <td>premeno</td>\n",
       "      <td>right_low</td>\n",
       "      <td>0-14</td>\n",
       "      <td>1/4</td>\n",
       "    </tr>\n",
       "    <tr>\n",
       "      <th>14</th>\n",
       "      <td>premeno</td>\n",
       "      <td>central</td>\n",
       "      <td>25-39</td>\n",
       "      <td>1/3</td>\n",
       "    </tr>\n",
       "    <tr>\n",
       "      <th>15</th>\n",
       "      <td>premeno</td>\n",
       "      <td>central</td>\n",
       "      <td>15-24</td>\n",
       "      <td>1/3</td>\n",
       "    </tr>\n",
       "    <tr>\n",
       "      <th>16</th>\n",
       "      <td>premeno</td>\n",
       "      <td>central</td>\n",
       "      <td>0-14</td>\n",
       "      <td>1/3</td>\n",
       "    </tr>\n",
       "    <tr>\n",
       "      <th>17</th>\n",
       "      <td>ge40</td>\n",
       "      <td>left_low</td>\n",
       "      <td>25-39</td>\n",
       "      <td>22/49</td>\n",
       "    </tr>\n",
       "    <tr>\n",
       "      <th>18</th>\n",
       "      <td>ge40</td>\n",
       "      <td>left_low</td>\n",
       "      <td>15-24</td>\n",
       "      <td>13/49</td>\n",
       "    </tr>\n",
       "    <tr>\n",
       "      <th>19</th>\n",
       "      <td>ge40</td>\n",
       "      <td>left_low</td>\n",
       "      <td>40-54</td>\n",
       "      <td>1/7</td>\n",
       "    </tr>\n",
       "    <tr>\n",
       "      <th>20</th>\n",
       "      <td>ge40</td>\n",
       "      <td>left_low</td>\n",
       "      <td>0-14</td>\n",
       "      <td>1/7</td>\n",
       "    </tr>\n",
       "    <tr>\n",
       "      <th>21</th>\n",
       "      <td>ge40</td>\n",
       "      <td>right_up</td>\n",
       "      <td>25-39</td>\n",
       "      <td>5/12</td>\n",
       "    </tr>\n",
       "    <tr>\n",
       "      <th>22</th>\n",
       "      <td>ge40</td>\n",
       "      <td>right_up</td>\n",
       "      <td>40-54</td>\n",
       "      <td>1/3</td>\n",
       "    </tr>\n",
       "    <tr>\n",
       "      <th>23</th>\n",
       "      <td>ge40</td>\n",
       "      <td>right_up</td>\n",
       "      <td>15-24</td>\n",
       "      <td>1/6</td>\n",
       "    </tr>\n",
       "    <tr>\n",
       "      <th>24</th>\n",
       "      <td>ge40</td>\n",
       "      <td>right_up</td>\n",
       "      <td>0-14</td>\n",
       "      <td>1/12</td>\n",
       "    </tr>\n",
       "    <tr>\n",
       "      <th>25</th>\n",
       "      <td>ge40</td>\n",
       "      <td>left_up</td>\n",
       "      <td>15-24</td>\n",
       "      <td>18/47</td>\n",
       "    </tr>\n",
       "    <tr>\n",
       "      <th>26</th>\n",
       "      <td>ge40</td>\n",
       "      <td>left_up</td>\n",
       "      <td>25-39</td>\n",
       "      <td>16/47</td>\n",
       "    </tr>\n",
       "    <tr>\n",
       "      <th>27</th>\n",
       "      <td>ge40</td>\n",
       "      <td>left_up</td>\n",
       "      <td>40-54</td>\n",
       "      <td>7/47</td>\n",
       "    </tr>\n",
       "    <tr>\n",
       "      <th>28</th>\n",
       "      <td>ge40</td>\n",
       "      <td>left_up</td>\n",
       "      <td>0-14</td>\n",
       "      <td>6/47</td>\n",
       "    </tr>\n",
       "    <tr>\n",
       "      <th>29</th>\n",
       "      <td>ge40</td>\n",
       "      <td>right_low</td>\n",
       "      <td>25-39</td>\n",
       "      <td>3/4</td>\n",
       "    </tr>\n",
       "    <tr>\n",
       "      <th>30</th>\n",
       "      <td>ge40</td>\n",
       "      <td>right_low</td>\n",
       "      <td>15-24</td>\n",
       "      <td>1/8</td>\n",
       "    </tr>\n",
       "    <tr>\n",
       "      <th>31</th>\n",
       "      <td>ge40</td>\n",
       "      <td>right_low</td>\n",
       "      <td>0-14</td>\n",
       "      <td>1/8</td>\n",
       "    </tr>\n",
       "    <tr>\n",
       "      <th>32</th>\n",
       "      <td>ge40</td>\n",
       "      <td>central</td>\n",
       "      <td>0-14</td>\n",
       "      <td>1/3</td>\n",
       "    </tr>\n",
       "    <tr>\n",
       "      <th>33</th>\n",
       "      <td>ge40</td>\n",
       "      <td>central</td>\n",
       "      <td>15-24</td>\n",
       "      <td>1/3</td>\n",
       "    </tr>\n",
       "    <tr>\n",
       "      <th>34</th>\n",
       "      <td>ge40</td>\n",
       "      <td>central</td>\n",
       "      <td>25-39</td>\n",
       "      <td>1/4</td>\n",
       "    </tr>\n",
       "    <tr>\n",
       "      <th>35</th>\n",
       "      <td>ge40</td>\n",
       "      <td>central</td>\n",
       "      <td>40-54</td>\n",
       "      <td>1/12</td>\n",
       "    </tr>\n",
       "  </tbody>\n",
       "</table>\n",
       "</div>"
      ],
      "text/plain": [
       "   menopause breast_quad tumor_size   prob\n",
       "0    premeno    left_low      25-39  13/29\n",
       "1    premeno    left_low      15-24  19/58\n",
       "2    premeno    left_low       0-14   7/58\n",
       "3    premeno    left_low      40-54   3/29\n",
       "4    premeno    right_up      25-39    3/4\n",
       "5    premeno    right_up      15-24   3/20\n",
       "6    premeno    right_up      40-54   1/10\n",
       "7    premeno     left_up      25-39  27/47\n",
       "8    premeno     left_up      15-24   8/47\n",
       "9    premeno     left_up      40-54   6/47\n",
       "10   premeno     left_up       0-14   6/47\n",
       "11   premeno   right_low      25-39   7/16\n",
       "12   premeno   right_low      15-24   5/16\n",
       "13   premeno   right_low       0-14    1/4\n",
       "14   premeno     central      25-39    1/3\n",
       "15   premeno     central      15-24    1/3\n",
       "16   premeno     central       0-14    1/3\n",
       "17      ge40    left_low      25-39  22/49\n",
       "18      ge40    left_low      15-24  13/49\n",
       "19      ge40    left_low      40-54    1/7\n",
       "20      ge40    left_low       0-14    1/7\n",
       "21      ge40    right_up      25-39   5/12\n",
       "22      ge40    right_up      40-54    1/3\n",
       "23      ge40    right_up      15-24    1/6\n",
       "24      ge40    right_up       0-14   1/12\n",
       "25      ge40     left_up      15-24  18/47\n",
       "26      ge40     left_up      25-39  16/47\n",
       "27      ge40     left_up      40-54   7/47\n",
       "28      ge40     left_up       0-14   6/47\n",
       "29      ge40   right_low      25-39    3/4\n",
       "30      ge40   right_low      15-24    1/8\n",
       "31      ge40   right_low       0-14    1/8\n",
       "32      ge40     central       0-14    1/3\n",
       "33      ge40     central      15-24    1/3\n",
       "34      ge40     central      25-39    1/4\n",
       "35      ge40     central      40-54   1/12"
      ]
     },
     "metadata": {},
     "output_type": "display_data"
    },
    {
     "name": "stdout",
     "output_type": "stream",
     "text": [
      " \n",
      " \n",
      " \n",
      " \n",
      " \n",
      " \n",
      " \n",
      " \n"
     ]
    },
    {
     "data": {
      "text/html": [
       "<div>\n",
       "<style scoped>\n",
       "    .dataframe tbody tr th:only-of-type {\n",
       "        vertical-align: middle;\n",
       "    }\n",
       "\n",
       "    .dataframe tbody tr th {\n",
       "        vertical-align: top;\n",
       "    }\n",
       "\n",
       "    .dataframe thead th {\n",
       "        text-align: right;\n",
       "    }\n",
       "</style>\n",
       "<table border=\"1\" class=\"dataframe\">\n",
       "  <thead>\n",
       "    <tr style=\"text-align: right;\">\n",
       "      <th></th>\n",
       "      <th>menopause</th>\n",
       "      <th>tumor_size</th>\n",
       "      <th>deg_malig</th>\n",
       "      <th>prob</th>\n",
       "    </tr>\n",
       "  </thead>\n",
       "  <tbody>\n",
       "    <tr>\n",
       "      <th>0</th>\n",
       "      <td>premeno</td>\n",
       "      <td>25-39</td>\n",
       "      <td>2</td>\n",
       "      <td>37/78</td>\n",
       "    </tr>\n",
       "    <tr>\n",
       "      <th>1</th>\n",
       "      <td>premeno</td>\n",
       "      <td>25-39</td>\n",
       "      <td>3</td>\n",
       "      <td>1/3</td>\n",
       "    </tr>\n",
       "    <tr>\n",
       "      <th>2</th>\n",
       "      <td>premeno</td>\n",
       "      <td>25-39</td>\n",
       "      <td>1</td>\n",
       "      <td>5/26</td>\n",
       "    </tr>\n",
       "    <tr>\n",
       "      <th>3</th>\n",
       "      <td>premeno</td>\n",
       "      <td>15-24</td>\n",
       "      <td>2</td>\n",
       "      <td>23/38</td>\n",
       "    </tr>\n",
       "    <tr>\n",
       "      <th>4</th>\n",
       "      <td>premeno</td>\n",
       "      <td>15-24</td>\n",
       "      <td>1</td>\n",
       "      <td>4/19</td>\n",
       "    </tr>\n",
       "    <tr>\n",
       "      <th>5</th>\n",
       "      <td>premeno</td>\n",
       "      <td>15-24</td>\n",
       "      <td>3</td>\n",
       "      <td>7/38</td>\n",
       "    </tr>\n",
       "    <tr>\n",
       "      <th>6</th>\n",
       "      <td>premeno</td>\n",
       "      <td>0-14</td>\n",
       "      <td>2</td>\n",
       "      <td>11/20</td>\n",
       "    </tr>\n",
       "    <tr>\n",
       "      <th>7</th>\n",
       "      <td>premeno</td>\n",
       "      <td>0-14</td>\n",
       "      <td>1</td>\n",
       "      <td>7/20</td>\n",
       "    </tr>\n",
       "    <tr>\n",
       "      <th>8</th>\n",
       "      <td>premeno</td>\n",
       "      <td>0-14</td>\n",
       "      <td>3</td>\n",
       "      <td>1/10</td>\n",
       "    </tr>\n",
       "    <tr>\n",
       "      <th>9</th>\n",
       "      <td>premeno</td>\n",
       "      <td>40-54</td>\n",
       "      <td>2</td>\n",
       "      <td>9/14</td>\n",
       "    </tr>\n",
       "    <tr>\n",
       "      <th>10</th>\n",
       "      <td>premeno</td>\n",
       "      <td>40-54</td>\n",
       "      <td>1</td>\n",
       "      <td>3/14</td>\n",
       "    </tr>\n",
       "    <tr>\n",
       "      <th>11</th>\n",
       "      <td>premeno</td>\n",
       "      <td>40-54</td>\n",
       "      <td>3</td>\n",
       "      <td>1/7</td>\n",
       "    </tr>\n",
       "    <tr>\n",
       "      <th>12</th>\n",
       "      <td>ge40</td>\n",
       "      <td>25-39</td>\n",
       "      <td>3</td>\n",
       "      <td>25/52</td>\n",
       "    </tr>\n",
       "    <tr>\n",
       "      <th>13</th>\n",
       "      <td>ge40</td>\n",
       "      <td>25-39</td>\n",
       "      <td>2</td>\n",
       "      <td>17/52</td>\n",
       "    </tr>\n",
       "    <tr>\n",
       "      <th>14</th>\n",
       "      <td>ge40</td>\n",
       "      <td>25-39</td>\n",
       "      <td>1</td>\n",
       "      <td>5/26</td>\n",
       "    </tr>\n",
       "    <tr>\n",
       "      <th>15</th>\n",
       "      <td>ge40</td>\n",
       "      <td>15-24</td>\n",
       "      <td>2</td>\n",
       "      <td>9/19</td>\n",
       "    </tr>\n",
       "    <tr>\n",
       "      <th>16</th>\n",
       "      <td>ge40</td>\n",
       "      <td>15-24</td>\n",
       "      <td>3</td>\n",
       "      <td>11/38</td>\n",
       "    </tr>\n",
       "    <tr>\n",
       "      <th>17</th>\n",
       "      <td>ge40</td>\n",
       "      <td>15-24</td>\n",
       "      <td>1</td>\n",
       "      <td>9/38</td>\n",
       "    </tr>\n",
       "    <tr>\n",
       "      <th>18</th>\n",
       "      <td>ge40</td>\n",
       "      <td>0-14</td>\n",
       "      <td>1</td>\n",
       "      <td>11/19</td>\n",
       "    </tr>\n",
       "    <tr>\n",
       "      <th>19</th>\n",
       "      <td>ge40</td>\n",
       "      <td>0-14</td>\n",
       "      <td>2</td>\n",
       "      <td>7/19</td>\n",
       "    </tr>\n",
       "    <tr>\n",
       "      <th>20</th>\n",
       "      <td>ge40</td>\n",
       "      <td>0-14</td>\n",
       "      <td>3</td>\n",
       "      <td>1/19</td>\n",
       "    </tr>\n",
       "    <tr>\n",
       "      <th>21</th>\n",
       "      <td>ge40</td>\n",
       "      <td>40-54</td>\n",
       "      <td>3</td>\n",
       "      <td>8/19</td>\n",
       "    </tr>\n",
       "    <tr>\n",
       "      <th>22</th>\n",
       "      <td>ge40</td>\n",
       "      <td>40-54</td>\n",
       "      <td>2</td>\n",
       "      <td>7/19</td>\n",
       "    </tr>\n",
       "    <tr>\n",
       "      <th>23</th>\n",
       "      <td>ge40</td>\n",
       "      <td>40-54</td>\n",
       "      <td>1</td>\n",
       "      <td>4/19</td>\n",
       "    </tr>\n",
       "  </tbody>\n",
       "</table>\n",
       "</div>"
      ],
      "text/plain": [
       "   menopause tumor_size  deg_malig   prob\n",
       "0    premeno      25-39          2  37/78\n",
       "1    premeno      25-39          3    1/3\n",
       "2    premeno      25-39          1   5/26\n",
       "3    premeno      15-24          2  23/38\n",
       "4    premeno      15-24          1   4/19\n",
       "5    premeno      15-24          3   7/38\n",
       "6    premeno       0-14          2  11/20\n",
       "7    premeno       0-14          1   7/20\n",
       "8    premeno       0-14          3   1/10\n",
       "9    premeno      40-54          2   9/14\n",
       "10   premeno      40-54          1   3/14\n",
       "11   premeno      40-54          3    1/7\n",
       "12      ge40      25-39          3  25/52\n",
       "13      ge40      25-39          2  17/52\n",
       "14      ge40      25-39          1   5/26\n",
       "15      ge40      15-24          2   9/19\n",
       "16      ge40      15-24          3  11/38\n",
       "17      ge40      15-24          1   9/38\n",
       "18      ge40       0-14          1  11/19\n",
       "19      ge40       0-14          2   7/19\n",
       "20      ge40       0-14          3   1/19\n",
       "21      ge40      40-54          3   8/19\n",
       "22      ge40      40-54          2   7/19\n",
       "23      ge40      40-54          1   4/19"
      ]
     },
     "metadata": {},
     "output_type": "display_data"
    },
    {
     "name": "stdout",
     "output_type": "stream",
     "text": [
      " \n"
     ]
    },
    {
     "data": {
      "text/html": [
       "<div>\n",
       "<style scoped>\n",
       "    .dataframe tbody tr th:only-of-type {\n",
       "        vertical-align: middle;\n",
       "    }\n",
       "\n",
       "    .dataframe tbody tr th {\n",
       "        vertical-align: top;\n",
       "    }\n",
       "\n",
       "    .dataframe thead th {\n",
       "        text-align: right;\n",
       "    }\n",
       "</style>\n",
       "<table border=\"1\" class=\"dataframe\">\n",
       "  <thead>\n",
       "    <tr style=\"text-align: right;\">\n",
       "      <th></th>\n",
       "      <th>breast_quad</th>\n",
       "      <th>prob</th>\n",
       "    </tr>\n",
       "  </thead>\n",
       "  <tbody>\n",
       "    <tr>\n",
       "      <th>0</th>\n",
       "      <td>left_low</td>\n",
       "      <td>107/278</td>\n",
       "    </tr>\n",
       "    <tr>\n",
       "      <th>1</th>\n",
       "      <td>left_up</td>\n",
       "      <td>47/139</td>\n",
       "    </tr>\n",
       "    <tr>\n",
       "      <th>2</th>\n",
       "      <td>right_up</td>\n",
       "      <td>16/139</td>\n",
       "    </tr>\n",
       "    <tr>\n",
       "      <th>3</th>\n",
       "      <td>right_low</td>\n",
       "      <td>12/139</td>\n",
       "    </tr>\n",
       "    <tr>\n",
       "      <th>4</th>\n",
       "      <td>central</td>\n",
       "      <td>21/278</td>\n",
       "    </tr>\n",
       "  </tbody>\n",
       "</table>\n",
       "</div>"
      ],
      "text/plain": [
       "  breast_quad     prob\n",
       "0    left_low  107/278\n",
       "1     left_up   47/139\n",
       "2    right_up   16/139\n",
       "3   right_low   12/139\n",
       "4     central   21/278"
      ]
     },
     "metadata": {},
     "output_type": "display_data"
    },
    {
     "name": "stdout",
     "output_type": "stream",
     "text": [
      " \n",
      " \n",
      " \n",
      " \n"
     ]
    },
    {
     "data": {
      "text/html": [
       "<div>\n",
       "<style scoped>\n",
       "    .dataframe tbody tr th:only-of-type {\n",
       "        vertical-align: middle;\n",
       "    }\n",
       "\n",
       "    .dataframe tbody tr th {\n",
       "        vertical-align: top;\n",
       "    }\n",
       "\n",
       "    .dataframe thead th {\n",
       "        text-align: right;\n",
       "    }\n",
       "</style>\n",
       "<table border=\"1\" class=\"dataframe\">\n",
       "  <thead>\n",
       "    <tr style=\"text-align: right;\">\n",
       "      <th></th>\n",
       "      <th>tumor_size</th>\n",
       "      <th>irradiat</th>\n",
       "      <th>prob</th>\n",
       "    </tr>\n",
       "  </thead>\n",
       "  <tbody>\n",
       "    <tr>\n",
       "      <th>0</th>\n",
       "      <td>25-39</td>\n",
       "      <td>no</td>\n",
       "      <td>93/130</td>\n",
       "    </tr>\n",
       "    <tr>\n",
       "      <th>1</th>\n",
       "      <td>25-39</td>\n",
       "      <td>yes</td>\n",
       "      <td>37/130</td>\n",
       "    </tr>\n",
       "    <tr>\n",
       "      <th>2</th>\n",
       "      <td>15-24</td>\n",
       "      <td>no</td>\n",
       "      <td>61/76</td>\n",
       "    </tr>\n",
       "    <tr>\n",
       "      <th>3</th>\n",
       "      <td>15-24</td>\n",
       "      <td>yes</td>\n",
       "      <td>15/76</td>\n",
       "    </tr>\n",
       "    <tr>\n",
       "      <th>4</th>\n",
       "      <td>0-14</td>\n",
       "      <td>no</td>\n",
       "      <td>35/39</td>\n",
       "    </tr>\n",
       "    <tr>\n",
       "      <th>5</th>\n",
       "      <td>0-14</td>\n",
       "      <td>yes</td>\n",
       "      <td>4/39</td>\n",
       "    </tr>\n",
       "    <tr>\n",
       "      <th>6</th>\n",
       "      <td>40-54</td>\n",
       "      <td>no</td>\n",
       "      <td>7/11</td>\n",
       "    </tr>\n",
       "    <tr>\n",
       "      <th>7</th>\n",
       "      <td>40-54</td>\n",
       "      <td>yes</td>\n",
       "      <td>4/11</td>\n",
       "    </tr>\n",
       "  </tbody>\n",
       "</table>\n",
       "</div>"
      ],
      "text/plain": [
       "  tumor_size irradiat    prob\n",
       "0      25-39       no  93/130\n",
       "1      25-39      yes  37/130\n",
       "2      15-24       no   61/76\n",
       "3      15-24      yes   15/76\n",
       "4       0-14       no   35/39\n",
       "5       0-14      yes    4/39\n",
       "6      40-54       no    7/11\n",
       "7      40-54      yes    4/11"
      ]
     },
     "metadata": {},
     "output_type": "display_data"
    },
    {
     "name": "stdout",
     "output_type": "stream",
     "text": [
      " \n",
      " \n",
      " \n",
      " \n",
      " \n",
      " \n"
     ]
    },
    {
     "data": {
      "text/html": [
       "<div>\n",
       "<style scoped>\n",
       "    .dataframe tbody tr th:only-of-type {\n",
       "        vertical-align: middle;\n",
       "    }\n",
       "\n",
       "    .dataframe tbody tr th {\n",
       "        vertical-align: top;\n",
       "    }\n",
       "\n",
       "    .dataframe thead th {\n",
       "        text-align: right;\n",
       "    }\n",
       "</style>\n",
       "<table border=\"1\" class=\"dataframe\">\n",
       "  <thead>\n",
       "    <tr style=\"text-align: right;\">\n",
       "      <th></th>\n",
       "      <th>deg_malig</th>\n",
       "      <th>irradiat</th>\n",
       "      <th>Class</th>\n",
       "      <th>prob</th>\n",
       "    </tr>\n",
       "  </thead>\n",
       "  <tbody>\n",
       "    <tr>\n",
       "      <th>0</th>\n",
       "      <td>3</td>\n",
       "      <td>no</td>\n",
       "      <td>no-recurrence-events</td>\n",
       "      <td>28/53</td>\n",
       "    </tr>\n",
       "    <tr>\n",
       "      <th>1</th>\n",
       "      <td>3</td>\n",
       "      <td>no</td>\n",
       "      <td>recurrence-events</td>\n",
       "      <td>25/53</td>\n",
       "    </tr>\n",
       "    <tr>\n",
       "      <th>2</th>\n",
       "      <td>3</td>\n",
       "      <td>yes</td>\n",
       "      <td>recurrence-events</td>\n",
       "      <td>19/29</td>\n",
       "    </tr>\n",
       "    <tr>\n",
       "      <th>3</th>\n",
       "      <td>3</td>\n",
       "      <td>yes</td>\n",
       "      <td>no-recurrence-events</td>\n",
       "      <td>10/29</td>\n",
       "    </tr>\n",
       "    <tr>\n",
       "      <th>4</th>\n",
       "      <td>2</td>\n",
       "      <td>no</td>\n",
       "      <td>no-recurrence-events</td>\n",
       "      <td>78/97</td>\n",
       "    </tr>\n",
       "    <tr>\n",
       "      <th>5</th>\n",
       "      <td>2</td>\n",
       "      <td>no</td>\n",
       "      <td>recurrence-events</td>\n",
       "      <td>19/97</td>\n",
       "    </tr>\n",
       "    <tr>\n",
       "      <th>6</th>\n",
       "      <td>2</td>\n",
       "      <td>yes</td>\n",
       "      <td>no-recurrence-events</td>\n",
       "      <td>23/32</td>\n",
       "    </tr>\n",
       "    <tr>\n",
       "      <th>7</th>\n",
       "      <td>2</td>\n",
       "      <td>yes</td>\n",
       "      <td>recurrence-events</td>\n",
       "      <td>9/32</td>\n",
       "    </tr>\n",
       "    <tr>\n",
       "      <th>8</th>\n",
       "      <td>1</td>\n",
       "      <td>no</td>\n",
       "      <td>no-recurrence-events</td>\n",
       "      <td>53/60</td>\n",
       "    </tr>\n",
       "    <tr>\n",
       "      <th>9</th>\n",
       "      <td>1</td>\n",
       "      <td>no</td>\n",
       "      <td>recurrence-events</td>\n",
       "      <td>7/60</td>\n",
       "    </tr>\n",
       "    <tr>\n",
       "      <th>10</th>\n",
       "      <td>1</td>\n",
       "      <td>yes</td>\n",
       "      <td>no-recurrence-events</td>\n",
       "      <td>4/7</td>\n",
       "    </tr>\n",
       "    <tr>\n",
       "      <th>11</th>\n",
       "      <td>1</td>\n",
       "      <td>yes</td>\n",
       "      <td>recurrence-events</td>\n",
       "      <td>3/7</td>\n",
       "    </tr>\n",
       "  </tbody>\n",
       "</table>\n",
       "</div>"
      ],
      "text/plain": [
       "    deg_malig irradiat                 Class   prob\n",
       "0           3       no  no-recurrence-events  28/53\n",
       "1           3       no     recurrence-events  25/53\n",
       "2           3      yes     recurrence-events  19/29\n",
       "3           3      yes  no-recurrence-events  10/29\n",
       "4           2       no  no-recurrence-events  78/97\n",
       "5           2       no     recurrence-events  19/97\n",
       "6           2      yes  no-recurrence-events  23/32\n",
       "7           2      yes     recurrence-events   9/32\n",
       "8           1       no  no-recurrence-events  53/60\n",
       "9           1       no     recurrence-events   7/60\n",
       "10          1      yes  no-recurrence-events    4/7\n",
       "11          1      yes     recurrence-events    3/7"
      ]
     },
     "metadata": {},
     "output_type": "display_data"
    }
   ],
   "source": [
    "for e in data.columns:\n",
    "    \n",
    "    # list containing pairs of value combinations and their conditional probabilities\n",
    "    lista = calculate_probabilities(relationship, data, e)[0]\n",
    "    # list for dictionaries that will represent the conditional probabilities for the current column\n",
    "    data_dict_list = []\n",
    "\n",
    "    for item in lista:\n",
    "        dep = item[0]\n",
    "        \n",
    "        for tags, values in zip(item[1].index, list(item[1])):\n",
    "            dicionary = {}\n",
    "            \n",
    "            for dependencies_names,dependencies_vals in zip(data.columns[relationship[e]], dep):\n",
    "                dicionary[dependencies_names] = dependencies_vals\n",
    "            if len(dep) == 0:\n",
    "                \n",
    "                dicionary[e] = tags[0]\n",
    "            else:    \n",
    "                dicionary[e] = tags\n",
    "            dicionary['prob'] = Fraction(values).limit_denominator()\n",
    "            data_dict_list.append(dicionary)\n",
    "        \n",
    "    df = pd.DataFrame(data_dict_list)\n",
    "    display(df)"
   ]
  },
  {
   "cell_type": "markdown",
   "id": "3b12ef51",
   "metadata": {},
   "source": [
    "### 4.5 Building the model"
   ]
  },
  {
   "cell_type": "code",
   "execution_count": 16,
   "id": "e665b466",
   "metadata": {},
   "outputs": [],
   "source": [
    "#from scipy.stats import rv_discrete\n",
    "from pgmpy.factors.discrete import TabularCPD\n",
    "from pgmpy.inference import VariableElimination"
   ]
  },
  {
   "cell_type": "markdown",
   "id": "05fd483d",
   "metadata": {},
   "source": [
    "##### 4.5.1 Defining probabilities"
   ]
  },
  {
   "cell_type": "markdown",
   "id": "19caeac5",
   "metadata": {},
   "source": [
    "Probability of independent variables (*age* and *breast quadrant*):\n",
    "- The order for age is \"20-39\", \"40-49\", \"50-59\", \"60-79\"\n",
    "- The order for breast quadrant is \"central\", \"left_low\", \"left_up\", \"right_down\", \"right_up\""
   ]
  },
  {
   "cell_type": "code",
   "execution_count": 17,
   "id": "2679eb31",
   "metadata": {},
   "outputs": [],
   "source": [
    "age = np.reshape([18/139, 45/139, 91/278, 61/278], (4,1))\n",
    "breast_quad = np.reshape([21/278, 107/278, 47/139, 12/139, 16/139], (5,1))"
   ]
  },
  {
   "cell_type": "markdown",
   "id": "11844d09",
   "metadata": {},
   "source": [
    "Probability of *menopause* knowing *age*:\n",
    "- The order for menopause is \"ge40\", \"premeno\"\n",
    "- The layout of the 2D array represents manopause as the rows and ageas columns"
   ]
  },
  {
   "cell_type": "code",
   "execution_count": 18,
   "id": "2b67cc2a",
   "metadata": {},
   "outputs": [],
   "source": [
    "# P(menopause|age)\n",
    "meno_age = [[0, 1/10, 58/91, 1], \n",
    "            [1, 9/10, 33/91, 0]]"
   ]
  },
  {
   "cell_type": "markdown",
   "id": "da728603",
   "metadata": {},
   "source": [
    "Probability of *tumor size* knowing *breast quadrant* and *menopause*:\n",
    "- The order for tumor size is \"0-14\", \"15-24\", \"25-39\", \"40-54\"\n",
    "- The layout of the 2D array represents tumor_size as the rows and the combination of breast quadrant and menopause as columns (\"central\"+\"ge40\", \"central+\"premeno\", \"left_low\"+\"ge40\", and so on)"
   ]
  },
  {
   "cell_type": "code",
   "execution_count": 19,
   "id": "d57a0b26",
   "metadata": {},
   "outputs": [],
   "source": [
    "# P(size|quadrant,menopause)\n",
    "tumsiz_brequad_meno = [[1/3, 1/3, 1/7, 7/58, 6/47, 6/47, 1/8, 1/4, 1/12, 0], \n",
    "                       [1/3, 1/3, 13/49, 19/58, 18/47, 8/47, 1/8, 5/16, 1/6, 3/20], \n",
    "                       [1/4, 1/3, 22/49, 13/29, 16/47, 27/47, 3/4, 7/16, 5/12, 3/4], \n",
    "                       [1/12, 0, 1/7, 3/29, 7/47, 6/47, 0, 0, 1/3, 1/10]]"
   ]
  },
  {
   "cell_type": "markdown",
   "id": "e5d7e90c",
   "metadata": {},
   "source": [
    "Probability of *degree of malignancy* knowing *menopause* and *tumor size*\n",
    "- The order for degree of malignancy is 1, 2, 3\n",
    "- The layout of the 2D array represents degree of malignancy as the rows and the combination of menopause and tumor size as columns (\"g40\"+\"0-14\", \"ge40+\"15-24\", \"ge40\"+\"25-39\", \"ge40\"+\"40-54\", \"premeno\"+\"0-14\", and so on)"
   ]
  },
  {
   "cell_type": "code",
   "execution_count": 20,
   "id": "8f85cd2b",
   "metadata": {},
   "outputs": [],
   "source": [
    "# P(degree|menopause,size)\n",
    "degmalg_meno_tumsiz = [[11/19, 9/38, 5/26, 4/19, 7/20, 4/19, 5/26, 3/14], \n",
    "                       [7/19, 9/19, 17/52, 7/19, 11/20, 23/38, 37/78, 9/14], \n",
    "                       [1/19, 11/38, 25/52, 8/19, 1/10, 7/38, 1/3, 1/7]]"
   ]
  },
  {
   "cell_type": "markdown",
   "id": "e7f244e0",
   "metadata": {},
   "source": [
    "Probability of *irradiation* knowing *tumor size*\n",
    "- The order for irradiation is \"no\", \"yes\"\n",
    "- The layout of the 2D array represents irradiation as the rows and tumor size as columns"
   ]
  },
  {
   "cell_type": "code",
   "execution_count": 21,
   "id": "51dcb6ac",
   "metadata": {},
   "outputs": [],
   "source": [
    "# P(irradiation|size)\n",
    "irradiat_tumsiz = [[35/39, 61/76, 93/130, 7/11], \n",
    "                   [4/39, 15/76, 37/130, 4/11]]"
   ]
  },
  {
   "cell_type": "markdown",
   "id": "22da01cf",
   "metadata": {},
   "source": [
    "Probability of *Recurrance* knowing *irradiation* and *degree of malignancy*\n",
    "- The order for class is \"no-recurrence-events\", \"recurrence-events\"\n",
    "- The layout of the 2D array represents class as the rows and the combination of degree of malignancy and irradiaton as columns (\"1\"+\"no\", \"1\"+\"yes\", \"2\"+\"no\", \"2\"+\"yes\", and so on)"
   ]
  },
  {
   "cell_type": "code",
   "execution_count": 22,
   "id": "85edb034",
   "metadata": {},
   "outputs": [],
   "source": [
    "# P(class|degree,irradiation)\n",
    "class_irradiat_degmalg = [[53/60, 4/7, 78/97, 23/32, 28/53, 10/29], \n",
    "                          [7/60, 3/7, 19/97, 9/32, 25/53, 19/29]]"
   ]
  },
  {
   "cell_type": "markdown",
   "id": "263871be",
   "metadata": {},
   "source": [
    "# Recurring to the pgmpy documentation:"
   ]
  },
  {
   "cell_type": "markdown",
   "id": "da47e9e4",
   "metadata": {},
   "source": [
    "##### 4.5.2 Creating the Bayesian Network with the conditional probabilities"
   ]
  },
  {
   "cell_type": "markdown",
   "id": "b2fbfbfa",
   "metadata": {},
   "source": [
    "- Conditional probability distribution (cpd) for INDEPENDENT variables with new format"
   ]
  },
  {
   "cell_type": "code",
   "execution_count": 23,
   "id": "41bc920f",
   "metadata": {},
   "outputs": [],
   "source": [
    "# age\n",
    "cpd_age = TabularCPD(variable='age', \n",
    "                     variable_card=4, \n",
    "                     values=age, \n",
    "                     state_names = {'age': ['20-39','40-49','50-59','60-79']})\n",
    "\n",
    "# breast quadrant\n",
    "cpd_breast_quad = TabularCPD(variable='breast_quad', \n",
    "                             variable_card=5, \n",
    "                             values=breast_quad, \n",
    "                             state_names = {'breast_quad': ['central','left_low','left_up','right_low','right_up']})"
   ]
  },
  {
   "cell_type": "markdown",
   "id": "2824cec6",
   "metadata": {},
   "source": [
    "- Conditional probability distribution (cpd) for the rest of the variables"
   ]
  },
  {
   "cell_type": "code",
   "execution_count": 24,
   "id": "9741cf76",
   "metadata": {},
   "outputs": [],
   "source": [
    "# menopause\n",
    "cpd_menopause = TabularCPD(variable='menopause', \n",
    "                           variable_card=2, \n",
    "                           values=meno_age, \n",
    "                           evidence=['age'], \n",
    "                           evidence_card=[4], \n",
    "                           state_names = {'menopause': ['ge40', 'premeno'], \n",
    "                                          'age': ['20-39','40-49','50-59','60-79']})\n",
    "\n",
    "# tumor size\n",
    "cpd_tumor_size = TabularCPD(variable='tumor_size', \n",
    "                            variable_card=4, \n",
    "                            values=tumsiz_brequad_meno, \n",
    "                            evidence=['breast_quad', 'menopause'], \n",
    "                            evidence_card=[5, 2], \n",
    "                            state_names = {'tumor_size': ['0-14','15-24','25-39','40-54'], \n",
    "                                           'breast_quad': ['central','left_low','left_up','right_low','right_up'], \n",
    "                                           'menopause': ['ge40', 'premeno']})\n",
    "\n",
    "# degree of malignancy\n",
    "cpd_deg_malig = TabularCPD(variable='deg_malig', \n",
    "                           variable_card=3, \n",
    "                           values=degmalg_meno_tumsiz, \n",
    "                           evidence=['menopause', 'tumor_size'], \n",
    "                           evidence_card=[2, 4], \n",
    "                           state_names = {'deg_malig': [1, 2, 3], \n",
    "                                          'menopause': ['ge40', 'premeno'], \n",
    "                                          'tumor_size': ['0-14','15-24','25-39','40-54']})\n",
    "\n",
    "# irradiation\n",
    "cpd_irradiat = TabularCPD(variable='irradiat', \n",
    "                          variable_card=2, \n",
    "                          values=irradiat_tumsiz, \n",
    "                          evidence=['tumor_size'], \n",
    "                          evidence_card=[4], \n",
    "                          state_names = {'irradiat': ['no','yes'], \n",
    "                                         'tumor_size': ['0-14','15-24','25-39','40-54']})\n",
    "\n",
    "# class\n",
    "cpd_class = TabularCPD(variable='Class', \n",
    "                       variable_card=2, \n",
    "                       values=class_irradiat_degmalg, \n",
    "                       evidence=['irradiat', 'deg_malig'], \n",
    "                       evidence_card=[2, 3], \n",
    "                       state_names = {'Class': ['no-recurrence-events','recurrence-events'], \n",
    "                                      'irradiat': ['no','yes'], \n",
    "                                      'deg_malig': [1, 2, 3]})"
   ]
  },
  {
   "cell_type": "markdown",
   "id": "aff396ba",
   "metadata": {},
   "source": [
    "- Fitting and experimenting the model"
   ]
  },
  {
   "cell_type": "code",
   "execution_count": 41,
   "id": "1807d2a9",
   "metadata": {},
   "outputs": [
    {
     "name": "stdout",
     "output_type": "stream",
     "text": [
      "+-----------------------------+--------------+\n",
      "| Class                       |   phi(Class) |\n",
      "+=============================+==============+\n",
      "| Class(no-recurrence-events) |       0.7188 |\n",
      "+-----------------------------+--------------+\n",
      "| Class(recurrence-events)    |       0.2812 |\n",
      "+-----------------------------+--------------+\n"
     ]
    }
   ],
   "source": [
    "# Fitting the model\n",
    "model.add_cpds(cpd_age, cpd_breast_quad, cpd_menopause, cpd_tumor_size, cpd_deg_malig, cpd_irradiat, cpd_class)\n",
    "model.check_model()\n",
    "\n",
    "infer = VariableElimination(model)\n",
    "# example for checking\n",
    "evidence = {'age': '20-39',\n",
    "            'breast_quad':  'left_low', \n",
    "            'menopause': 'premeno', \n",
    "            'tumor_size': '15-24', \n",
    "            'deg_malig': 1, \n",
    "            'irradiat': 'yes'}\n",
    "result = infer.query(variables=['Class'], evidence=evidence)\n",
    "print(result)"
   ]
  },
  {
   "cell_type": "markdown",
   "id": "d954641b",
   "metadata": {},
   "source": [
    "# 5. Implementing the model with examples"
   ]
  },
  {
   "cell_type": "markdown",
   "id": "7b2439e5",
   "metadata": {},
   "source": [
    "Here, we are creating a function that asks the user the values for the parameters for assessing recurrence of cancer based on the model implemented before. However, the parameters are asked if they're are not giving by the user before hand."
   ]
  },
  {
   "cell_type": "code",
   "execution_count": 36,
   "id": "fce367b2",
   "metadata": {},
   "outputs": [],
   "source": [
    "def recurrence_predict(Model,evidence=False):\n",
    "    \"\"\"\n",
    "    This function prints the probability of recurrence of breast cancer given\n",
    "    the a dictionary evidence with the data from the patient. If evidence is\n",
    "    not given, the parameters are input values asked by the function to the user.\n",
    "    \"\"\"\n",
    "    \n",
    "    parameters = {'age': ['20-39','40-49','50-59','60-79'], \n",
    "                  'breast_quad': ['central','left_low','left_up','right_low','right_up'], \n",
    "                  'menopause': ['ge40', 'premeno'],\n",
    "                  'tumor_size': ['0-14','15-24','25-39','40-54'], \n",
    "                  'deg_malig': [1, 2, 3], \n",
    "                  'irradiat': ['no','yes'], \n",
    "                  'Class': ['no-recurrence-events','recurrence-events']}\n",
    "    \n",
    "    # in case evidence hasn't been given by the user\n",
    "    if not evidence:\n",
    "        evidence = {}\n",
    "        for par in parameters:\n",
    "            # stop when all parameters are input\n",
    "            if par == 'Class': \n",
    "                break\n",
    "            \n",
    "            value = input(par + ' (insert according to pre-defined values): ')\n",
    "            if par == 'deg_malig':\n",
    "                try: \n",
    "                    value = int(value)\n",
    "                except:\n",
    "                    continue\n",
    "            if value in parameters[par]:\n",
    "                evidence[par] = value\n",
    "        \n",
    "    # check\n",
    "    infer = VariableElimination(Model)\n",
    "    result = infer.query(variables=['Class'], evidence=evidence)\n",
    "    \n",
    "    print('')\n",
    "    display(evidence)\n",
    "    print('')\n",
    "    print(result)"
   ]
  },
  {
   "cell_type": "markdown",
   "id": "f9333a40",
   "metadata": {},
   "source": [
    "### 5.1 Example 1"
   ]
  },
  {
   "cell_type": "code",
   "execution_count": 33,
   "id": "a14f163b",
   "metadata": {},
   "outputs": [
    {
     "name": "stdout",
     "output_type": "stream",
     "text": [
      "\n"
     ]
    },
    {
     "data": {
      "text/plain": [
       "{'age': '20-39',\n",
       " 'breast_quad': 'central',\n",
       " 'menopause': 'ge40',\n",
       " 'tumor_size': '40-54',\n",
       " 'deg_malig': 3,\n",
       " 'irradiat': 'yes'}"
      ]
     },
     "metadata": {},
     "output_type": "display_data"
    },
    {
     "name": "stdout",
     "output_type": "stream",
     "text": [
      "\n",
      "+-----------------------------+--------------+\n",
      "| Class                       |   phi(Class) |\n",
      "+=============================+==============+\n",
      "| Class(no-recurrence-events) |       0.3448 |\n",
      "+-----------------------------+--------------+\n",
      "| Class(recurrence-events)    |       0.6552 |\n",
      "+-----------------------------+--------------+\n"
     ]
    }
   ],
   "source": [
    "recurrence_predict(model, evidence={'age': '20-39', 'breast_quad': 'central', 'menopause': 'ge40', 'tumor_size': '40-54', 'deg_malig': 3, 'irradiat': 'yes'})"
   ]
  },
  {
   "cell_type": "markdown",
   "id": "e00d8b64",
   "metadata": {},
   "source": [
    "It suggests that, given the input features, the model assigns a higher probability to the \"recurrence-events\" class, indicating a higher likelihood of recurrence compared to no recurrence."
   ]
  },
  {
   "cell_type": "markdown",
   "id": "ff023c79",
   "metadata": {},
   "source": [
    "### 5.2 Example 2"
   ]
  },
  {
   "cell_type": "code",
   "execution_count": 34,
   "id": "639d5684",
   "metadata": {},
   "outputs": [
    {
     "name": "stdout",
     "output_type": "stream",
     "text": [
      "\n"
     ]
    },
    {
     "data": {
      "text/plain": [
       "{'age': '20-39',\n",
       " 'breast_quad': 'right_low',\n",
       " 'menopause': 'premeno',\n",
       " 'tumor_size': '0-14',\n",
       " 'deg_malig': 2,\n",
       " 'irradiat': 'yes'}"
      ]
     },
     "metadata": {},
     "output_type": "display_data"
    },
    {
     "name": "stdout",
     "output_type": "stream",
     "text": [
      "\n",
      "+-----------------------------+--------------+\n",
      "| Class                       |   phi(Class) |\n",
      "+=============================+==============+\n",
      "| Class(no-recurrence-events) |       0.5283 |\n",
      "+-----------------------------+--------------+\n",
      "| Class(recurrence-events)    |       0.4717 |\n",
      "+-----------------------------+--------------+\n"
     ]
    }
   ],
   "source": [
    "recurrence_predict(model,evidence={'age': '20-39', 'breast_quad': 'right_low', 'menopause': 'premeno', 'tumor_size': '0-14', 'deg_malig': 2, 'irradiat': 'yes'})"
   ]
  },
  {
   "cell_type": "markdown",
   "id": "3395e96f",
   "metadata": {},
   "source": [
    "\n",
    "In this case, the model assigns a higher probability to the \"no-recurrence-events\" class, indicating that, given the input features, there is a higher likelihood of no recurrence compared to recurrence."
   ]
  },
  {
   "cell_type": "markdown",
   "id": "22596c50",
   "metadata": {},
   "source": [
    "### 5.3 Different Examples "
   ]
  },
  {
   "cell_type": "code",
   "execution_count": 39,
   "id": "3581fb3c",
   "metadata": {},
   "outputs": [],
   "source": [
    "recurrence_predict(model)"
   ]
  },
  {
   "cell_type": "markdown",
   "id": "5852441c",
   "metadata": {},
   "source": [
    "# 6. Pro and Cons"
   ]
  },
  {
   "cell_type": "markdown",
   "id": "956ad6dd",
   "metadata": {},
   "source": [
    "Bayesian networks have several advantages. Firstly, they provide a natural and intuitive way to model uncertainty and probability, making them suitable for situations where uncertainty is inherent in the data. Additionally, the graphical representation of Bayesian networks makes them easy to understand and interpret, with nodes representing variables and edges representing probabilistic dependencies between variables. Bayesian networks also support incremental learning, allowing for easy updates as new data becomes available. Furthermore, they can perform well even with limited data, making them effective for small datasets. Lastly, Bayesian networks can be used to model and infer causal relationships between variables, which is valuable for understanding underlying mechanisms in a system.\n",
    "\n",
    "However, there are also some drawbacks to consider. Inference in Bayesian networks can be computationally expensive, especially as the number of variables increases, which can limit scalability. The assumption of independence between features given the class label may not hold in real-world scenarios, leading to biased predictions. While Bayesian networks can handle small datasets well, accurately learning the parameters (conditional probabilities) requires a sufficiently large dataset. Additionally, Bayesian networks struggle with continuous variables as they are inherently discrete, often requiring discretization methods that introduce additional complexity. Lastly, Bayesian networks may have limited expressiveness when trying to model complex relationships that go beyond the acyclic nature of the network."
   ]
  },
  {
   "cell_type": "markdown",
   "id": "780e527e",
   "metadata": {},
   "source": [
    "# 7. Future Improvements"
   ]
  },
  {
   "cell_type": "markdown",
   "id": "1cfe5111",
   "metadata": {},
   "source": [
    "To enhance the process, it is recommended to invest in advanced automation for data preprocessing. This would involve exploring methods for automatic detection of missing values, automatic handling of incorrect age formats, and other preprocessing steps, providing a more efficient and robust approach. Additionally, consider the application of automatic algorithms to optimize the structure of the Bayesian network, allowing the model to learn the relationship between variables directly from the data, rather than relying on manual definitions. An interactive graphical interface would be valuable, facilitating the exploration of the network, allowing users to visualize and interact with the structure, adjust evidence, and observe changes in probabilities. Furthermore, a sensitivity analysis could be implemented to evaluate the impact of small changes in input probabilities on the model's outputs, identifying the most influential variables in the predictions."
   ]
  },
  {
   "cell_type": "markdown",
   "id": "e2151a6c",
   "metadata": {},
   "source": [
    "# 8. References"
   ]
  },
  {
   "cell_type": "markdown",
   "id": "e4fbde88",
   "metadata": {},
   "source": [
    "- [1] D. Soni. *Introduction to Bayesian Networks*. Towards Data Science. June 8, 2018.\n",
    "- [2] J. Brownlee. *A Gentle Introduction to Bayesian Belief Networks*. Machine Learning Mastery. September 25, 2019.\n",
    "- [3] Cleveland Clinic. *Breast Cancer Recurrence*. https://my.clevelandclinic.org/health/diseases/8328-breast-cancer-recurrence. October 10, 2023.\n",
    "- [4] Ibeni, W.N. et al. (2019) ‘Comparative analysis on Bayesian classification for breast cancer problem’, Bulletin of Electrical Engineering and Informatics, 8(4). doi:10.11591/eei.v8i4.1628. \n",
    "- [5] Zwitter,Matjaz and Soklic,Milan. (1988). Breast Cancer. UCI Machine Learning Repository. https://doi.org/10.24432/C51P4M.\n",
    "- [6] Arora, P. et al. (2019) ‘Bayesian networks for risk prediction using real-world data: A tool for Precision Medicine’, Value in Health, 22(4), pp. 439–445. doi:10.1016/j.jval.2019.01.006. "
   ]
  }
 ],
 "metadata": {
  "kernelspec": {
   "display_name": "Python 3 (ipykernel)",
   "language": "python",
   "name": "python3"
  },
  "language_info": {
   "codemirror_mode": {
    "name": "ipython",
    "version": 3
   },
   "file_extension": ".py",
   "mimetype": "text/x-python",
   "name": "python",
   "nbconvert_exporter": "python",
   "pygments_lexer": "ipython3",
   "version": "3.9.12"
  }
 },
 "nbformat": 4,
 "nbformat_minor": 5
}
